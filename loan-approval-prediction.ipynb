{
 "cells": [
  {
   "cell_type": "code",
   "execution_count": 1,
   "id": "e140e8d1",
   "metadata": {
    "_cell_guid": "b1076dfc-b9ad-4769-8c92-a6c4dae69d19",
    "_uuid": "8f2839f25d086af736a60e9eeb907d3b93b6e0e5",
    "execution": {
     "iopub.execute_input": "2022-01-09T15:08:43.414252Z",
     "iopub.status.busy": "2022-01-09T15:08:43.412952Z",
     "iopub.status.idle": "2022-01-09T15:08:43.430470Z",
     "shell.execute_reply": "2022-01-09T15:08:43.431342Z",
     "shell.execute_reply.started": "2022-01-09T15:07:16.728205Z"
    },
    "papermill": {
     "duration": 0.086258,
     "end_time": "2022-01-09T15:08:43.431738",
     "exception": false,
     "start_time": "2022-01-09T15:08:43.345480",
     "status": "completed"
    },
    "tags": []
   },
   "outputs": [
    {
     "name": "stdout",
     "output_type": "stream",
     "text": [
      "/kaggle/input/loan-approval-prediction/Sample_Submission.csv\n",
      "/kaggle/input/loan-approval-prediction/Training Dataset.csv\n",
      "/kaggle/input/loan-approval-prediction/Test Dataset.csv\n"
     ]
    }
   ],
   "source": [
    "# This Python 3 environment comes with many helpful analytics libraries installed\n",
    "# It is defined by the kaggle/python Docker image: https://github.com/kaggle/docker-python\n",
    "# For example, here's several helpful packages to load\n",
    "\n",
    "import numpy as np # linear algebra\n",
    "import pandas as pd # data processing, CSV file I/O (e.g. pd.read_csv)\n",
    "\n",
    "# Input data files are available in the read-only \"../input/\" directory\n",
    "# For example, running this (by clicking run or pressing Shift+Enter) will list all files under the input directory\n",
    "\n",
    "import os\n",
    "for dirname, _, filenames in os.walk('/kaggle/input'):\n",
    "    for filename in filenames:\n",
    "        print(os.path.join(dirname, filename))\n",
    "\n",
    "# You can write up to 20GB to the current directory (/kaggle/working/) that gets preserved as output when you create a version using \"Save & Run All\" \n",
    "# You can also write temporary files to /kaggle/temp/, but they won't be saved outside of the current session"
   ]
  },
  {
   "cell_type": "markdown",
   "id": "f07eb1e6",
   "metadata": {
    "papermill": {
     "duration": 0.062748,
     "end_time": "2022-01-09T15:08:43.560730",
     "exception": false,
     "start_time": "2022-01-09T15:08:43.497982",
     "status": "completed"
    },
    "tags": []
   },
   "source": [
    "# **Importing Libraries**"
   ]
  },
  {
   "cell_type": "code",
   "execution_count": 2,
   "id": "62d01308",
   "metadata": {
    "execution": {
     "iopub.execute_input": "2022-01-09T15:08:43.691780Z",
     "iopub.status.busy": "2022-01-09T15:08:43.691048Z",
     "iopub.status.idle": "2022-01-09T15:08:44.829242Z",
     "shell.execute_reply": "2022-01-09T15:08:44.828543Z",
     "shell.execute_reply.started": "2022-01-09T15:07:17.243284Z"
    },
    "papermill": {
     "duration": 1.204361,
     "end_time": "2022-01-09T15:08:44.829408",
     "exception": false,
     "start_time": "2022-01-09T15:08:43.625047",
     "status": "completed"
    },
    "tags": []
   },
   "outputs": [],
   "source": [
    "import pandas as pd\n",
    "import numpy as np\n",
    "import matplotlib.pyplot as plt\n",
    "import seaborn as sns\n",
    "import warnings\n",
    "warnings.filterwarnings('ignore')"
   ]
  },
  {
   "cell_type": "markdown",
   "id": "1a5280f7",
   "metadata": {
    "papermill": {
     "duration": 0.061737,
     "end_time": "2022-01-09T15:08:44.953388",
     "exception": false,
     "start_time": "2022-01-09T15:08:44.891651",
     "status": "completed"
    },
    "tags": []
   },
   "source": [
    "# **Load Dataset**"
   ]
  },
  {
   "cell_type": "code",
   "execution_count": 3,
   "id": "95e39920",
   "metadata": {
    "execution": {
     "iopub.execute_input": "2022-01-09T15:08:45.084412Z",
     "iopub.status.busy": "2022-01-09T15:08:45.083759Z",
     "iopub.status.idle": "2022-01-09T15:08:45.138224Z",
     "shell.execute_reply": "2022-01-09T15:08:45.137656Z",
     "shell.execute_reply.started": "2022-01-09T15:07:19.591148Z"
    },
    "papermill": {
     "duration": 0.122893,
     "end_time": "2022-01-09T15:08:45.138409",
     "exception": false,
     "start_time": "2022-01-09T15:08:45.015516",
     "status": "completed"
    },
    "tags": []
   },
   "outputs": [
    {
     "data": {
      "text/html": [
       "<div>\n",
       "<style scoped>\n",
       "    .dataframe tbody tr th:only-of-type {\n",
       "        vertical-align: middle;\n",
       "    }\n",
       "\n",
       "    .dataframe tbody tr th {\n",
       "        vertical-align: top;\n",
       "    }\n",
       "\n",
       "    .dataframe thead th {\n",
       "        text-align: right;\n",
       "    }\n",
       "</style>\n",
       "<table border=\"1\" class=\"dataframe\">\n",
       "  <thead>\n",
       "    <tr style=\"text-align: right;\">\n",
       "      <th></th>\n",
       "      <th>Loan_ID</th>\n",
       "      <th>Gender</th>\n",
       "      <th>Married</th>\n",
       "      <th>Dependents</th>\n",
       "      <th>Education</th>\n",
       "      <th>Self_Employed</th>\n",
       "      <th>ApplicantIncome</th>\n",
       "      <th>CoapplicantIncome</th>\n",
       "      <th>LoanAmount</th>\n",
       "      <th>Loan_Amount_Term</th>\n",
       "      <th>Credit_History</th>\n",
       "      <th>Property_Area</th>\n",
       "      <th>Loan_Status</th>\n",
       "    </tr>\n",
       "  </thead>\n",
       "  <tbody>\n",
       "    <tr>\n",
       "      <th>0</th>\n",
       "      <td>LP001002</td>\n",
       "      <td>Male</td>\n",
       "      <td>No</td>\n",
       "      <td>0</td>\n",
       "      <td>Graduate</td>\n",
       "      <td>No</td>\n",
       "      <td>5849</td>\n",
       "      <td>0.0</td>\n",
       "      <td>NaN</td>\n",
       "      <td>360.0</td>\n",
       "      <td>1.0</td>\n",
       "      <td>Urban</td>\n",
       "      <td>Y</td>\n",
       "    </tr>\n",
       "    <tr>\n",
       "      <th>1</th>\n",
       "      <td>LP001003</td>\n",
       "      <td>Male</td>\n",
       "      <td>Yes</td>\n",
       "      <td>1</td>\n",
       "      <td>Graduate</td>\n",
       "      <td>No</td>\n",
       "      <td>4583</td>\n",
       "      <td>1508.0</td>\n",
       "      <td>128.0</td>\n",
       "      <td>360.0</td>\n",
       "      <td>1.0</td>\n",
       "      <td>Rural</td>\n",
       "      <td>N</td>\n",
       "    </tr>\n",
       "    <tr>\n",
       "      <th>2</th>\n",
       "      <td>LP001005</td>\n",
       "      <td>Male</td>\n",
       "      <td>Yes</td>\n",
       "      <td>0</td>\n",
       "      <td>Graduate</td>\n",
       "      <td>Yes</td>\n",
       "      <td>3000</td>\n",
       "      <td>0.0</td>\n",
       "      <td>66.0</td>\n",
       "      <td>360.0</td>\n",
       "      <td>1.0</td>\n",
       "      <td>Urban</td>\n",
       "      <td>Y</td>\n",
       "    </tr>\n",
       "    <tr>\n",
       "      <th>3</th>\n",
       "      <td>LP001006</td>\n",
       "      <td>Male</td>\n",
       "      <td>Yes</td>\n",
       "      <td>0</td>\n",
       "      <td>Not Graduate</td>\n",
       "      <td>No</td>\n",
       "      <td>2583</td>\n",
       "      <td>2358.0</td>\n",
       "      <td>120.0</td>\n",
       "      <td>360.0</td>\n",
       "      <td>1.0</td>\n",
       "      <td>Urban</td>\n",
       "      <td>Y</td>\n",
       "    </tr>\n",
       "    <tr>\n",
       "      <th>4</th>\n",
       "      <td>LP001008</td>\n",
       "      <td>Male</td>\n",
       "      <td>No</td>\n",
       "      <td>0</td>\n",
       "      <td>Graduate</td>\n",
       "      <td>No</td>\n",
       "      <td>6000</td>\n",
       "      <td>0.0</td>\n",
       "      <td>141.0</td>\n",
       "      <td>360.0</td>\n",
       "      <td>1.0</td>\n",
       "      <td>Urban</td>\n",
       "      <td>Y</td>\n",
       "    </tr>\n",
       "    <tr>\n",
       "      <th>...</th>\n",
       "      <td>...</td>\n",
       "      <td>...</td>\n",
       "      <td>...</td>\n",
       "      <td>...</td>\n",
       "      <td>...</td>\n",
       "      <td>...</td>\n",
       "      <td>...</td>\n",
       "      <td>...</td>\n",
       "      <td>...</td>\n",
       "      <td>...</td>\n",
       "      <td>...</td>\n",
       "      <td>...</td>\n",
       "      <td>...</td>\n",
       "    </tr>\n",
       "    <tr>\n",
       "      <th>609</th>\n",
       "      <td>LP002978</td>\n",
       "      <td>Female</td>\n",
       "      <td>No</td>\n",
       "      <td>0</td>\n",
       "      <td>Graduate</td>\n",
       "      <td>No</td>\n",
       "      <td>2900</td>\n",
       "      <td>0.0</td>\n",
       "      <td>71.0</td>\n",
       "      <td>360.0</td>\n",
       "      <td>1.0</td>\n",
       "      <td>Rural</td>\n",
       "      <td>Y</td>\n",
       "    </tr>\n",
       "    <tr>\n",
       "      <th>610</th>\n",
       "      <td>LP002979</td>\n",
       "      <td>Male</td>\n",
       "      <td>Yes</td>\n",
       "      <td>3+</td>\n",
       "      <td>Graduate</td>\n",
       "      <td>No</td>\n",
       "      <td>4106</td>\n",
       "      <td>0.0</td>\n",
       "      <td>40.0</td>\n",
       "      <td>180.0</td>\n",
       "      <td>1.0</td>\n",
       "      <td>Rural</td>\n",
       "      <td>Y</td>\n",
       "    </tr>\n",
       "    <tr>\n",
       "      <th>611</th>\n",
       "      <td>LP002983</td>\n",
       "      <td>Male</td>\n",
       "      <td>Yes</td>\n",
       "      <td>1</td>\n",
       "      <td>Graduate</td>\n",
       "      <td>No</td>\n",
       "      <td>8072</td>\n",
       "      <td>240.0</td>\n",
       "      <td>253.0</td>\n",
       "      <td>360.0</td>\n",
       "      <td>1.0</td>\n",
       "      <td>Urban</td>\n",
       "      <td>Y</td>\n",
       "    </tr>\n",
       "    <tr>\n",
       "      <th>612</th>\n",
       "      <td>LP002984</td>\n",
       "      <td>Male</td>\n",
       "      <td>Yes</td>\n",
       "      <td>2</td>\n",
       "      <td>Graduate</td>\n",
       "      <td>No</td>\n",
       "      <td>7583</td>\n",
       "      <td>0.0</td>\n",
       "      <td>187.0</td>\n",
       "      <td>360.0</td>\n",
       "      <td>1.0</td>\n",
       "      <td>Urban</td>\n",
       "      <td>Y</td>\n",
       "    </tr>\n",
       "    <tr>\n",
       "      <th>613</th>\n",
       "      <td>LP002990</td>\n",
       "      <td>Female</td>\n",
       "      <td>No</td>\n",
       "      <td>0</td>\n",
       "      <td>Graduate</td>\n",
       "      <td>Yes</td>\n",
       "      <td>4583</td>\n",
       "      <td>0.0</td>\n",
       "      <td>133.0</td>\n",
       "      <td>360.0</td>\n",
       "      <td>0.0</td>\n",
       "      <td>Semiurban</td>\n",
       "      <td>N</td>\n",
       "    </tr>\n",
       "  </tbody>\n",
       "</table>\n",
       "<p>614 rows × 13 columns</p>\n",
       "</div>"
      ],
      "text/plain": [
       "      Loan_ID  Gender Married Dependents     Education Self_Employed  \\\n",
       "0    LP001002    Male      No          0      Graduate            No   \n",
       "1    LP001003    Male     Yes          1      Graduate            No   \n",
       "2    LP001005    Male     Yes          0      Graduate           Yes   \n",
       "3    LP001006    Male     Yes          0  Not Graduate            No   \n",
       "4    LP001008    Male      No          0      Graduate            No   \n",
       "..        ...     ...     ...        ...           ...           ...   \n",
       "609  LP002978  Female      No          0      Graduate            No   \n",
       "610  LP002979    Male     Yes         3+      Graduate            No   \n",
       "611  LP002983    Male     Yes          1      Graduate            No   \n",
       "612  LP002984    Male     Yes          2      Graduate            No   \n",
       "613  LP002990  Female      No          0      Graduate           Yes   \n",
       "\n",
       "     ApplicantIncome  CoapplicantIncome  LoanAmount  Loan_Amount_Term  \\\n",
       "0               5849                0.0         NaN             360.0   \n",
       "1               4583             1508.0       128.0             360.0   \n",
       "2               3000                0.0        66.0             360.0   \n",
       "3               2583             2358.0       120.0             360.0   \n",
       "4               6000                0.0       141.0             360.0   \n",
       "..               ...                ...         ...               ...   \n",
       "609             2900                0.0        71.0             360.0   \n",
       "610             4106                0.0        40.0             180.0   \n",
       "611             8072              240.0       253.0             360.0   \n",
       "612             7583                0.0       187.0             360.0   \n",
       "613             4583                0.0       133.0             360.0   \n",
       "\n",
       "     Credit_History Property_Area Loan_Status  \n",
       "0               1.0         Urban           Y  \n",
       "1               1.0         Rural           N  \n",
       "2               1.0         Urban           Y  \n",
       "3               1.0         Urban           Y  \n",
       "4               1.0         Urban           Y  \n",
       "..              ...           ...         ...  \n",
       "609             1.0         Rural           Y  \n",
       "610             1.0         Rural           Y  \n",
       "611             1.0         Urban           Y  \n",
       "612             1.0         Urban           Y  \n",
       "613             0.0     Semiurban           N  \n",
       "\n",
       "[614 rows x 13 columns]"
      ]
     },
     "execution_count": 3,
     "metadata": {},
     "output_type": "execute_result"
    }
   ],
   "source": [
    "df=pd.read_csv(\"/kaggle/input/loan-approval-prediction/Training Dataset.csv\")\n",
    "df"
   ]
  },
  {
   "cell_type": "markdown",
   "id": "a40c7501",
   "metadata": {
    "papermill": {
     "duration": 0.063544,
     "end_time": "2022-01-09T15:08:45.264846",
     "exception": false,
     "start_time": "2022-01-09T15:08:45.201302",
     "status": "completed"
    },
    "tags": []
   },
   "source": [
    "# **Peak at the Data**"
   ]
  },
  {
   "cell_type": "code",
   "execution_count": 4,
   "id": "0f2008ff",
   "metadata": {
    "execution": {
     "iopub.execute_input": "2022-01-09T15:08:45.405045Z",
     "iopub.status.busy": "2022-01-09T15:08:45.404290Z",
     "iopub.status.idle": "2022-01-09T15:08:45.416165Z",
     "shell.execute_reply": "2022-01-09T15:08:45.415281Z",
     "shell.execute_reply.started": "2022-01-09T15:07:19.963199Z"
    },
    "papermill": {
     "duration": 0.087016,
     "end_time": "2022-01-09T15:08:45.416355",
     "exception": false,
     "start_time": "2022-01-09T15:08:45.329339",
     "status": "completed"
    },
    "tags": []
   },
   "outputs": [
    {
     "data": {
      "text/html": [
       "<div>\n",
       "<style scoped>\n",
       "    .dataframe tbody tr th:only-of-type {\n",
       "        vertical-align: middle;\n",
       "    }\n",
       "\n",
       "    .dataframe tbody tr th {\n",
       "        vertical-align: top;\n",
       "    }\n",
       "\n",
       "    .dataframe thead th {\n",
       "        text-align: right;\n",
       "    }\n",
       "</style>\n",
       "<table border=\"1\" class=\"dataframe\">\n",
       "  <thead>\n",
       "    <tr style=\"text-align: right;\">\n",
       "      <th></th>\n",
       "      <th>Loan_ID</th>\n",
       "      <th>Gender</th>\n",
       "      <th>Married</th>\n",
       "      <th>Dependents</th>\n",
       "      <th>Education</th>\n",
       "      <th>Self_Employed</th>\n",
       "      <th>ApplicantIncome</th>\n",
       "      <th>CoapplicantIncome</th>\n",
       "      <th>LoanAmount</th>\n",
       "      <th>Loan_Amount_Term</th>\n",
       "      <th>Credit_History</th>\n",
       "      <th>Property_Area</th>\n",
       "      <th>Loan_Status</th>\n",
       "    </tr>\n",
       "  </thead>\n",
       "  <tbody>\n",
       "    <tr>\n",
       "      <th>0</th>\n",
       "      <td>LP001002</td>\n",
       "      <td>Male</td>\n",
       "      <td>No</td>\n",
       "      <td>0</td>\n",
       "      <td>Graduate</td>\n",
       "      <td>No</td>\n",
       "      <td>5849</td>\n",
       "      <td>0.0</td>\n",
       "      <td>NaN</td>\n",
       "      <td>360.0</td>\n",
       "      <td>1.0</td>\n",
       "      <td>Urban</td>\n",
       "      <td>Y</td>\n",
       "    </tr>\n",
       "    <tr>\n",
       "      <th>1</th>\n",
       "      <td>LP001003</td>\n",
       "      <td>Male</td>\n",
       "      <td>Yes</td>\n",
       "      <td>1</td>\n",
       "      <td>Graduate</td>\n",
       "      <td>No</td>\n",
       "      <td>4583</td>\n",
       "      <td>1508.0</td>\n",
       "      <td>128.0</td>\n",
       "      <td>360.0</td>\n",
       "      <td>1.0</td>\n",
       "      <td>Rural</td>\n",
       "      <td>N</td>\n",
       "    </tr>\n",
       "    <tr>\n",
       "      <th>2</th>\n",
       "      <td>LP001005</td>\n",
       "      <td>Male</td>\n",
       "      <td>Yes</td>\n",
       "      <td>0</td>\n",
       "      <td>Graduate</td>\n",
       "      <td>Yes</td>\n",
       "      <td>3000</td>\n",
       "      <td>0.0</td>\n",
       "      <td>66.0</td>\n",
       "      <td>360.0</td>\n",
       "      <td>1.0</td>\n",
       "      <td>Urban</td>\n",
       "      <td>Y</td>\n",
       "    </tr>\n",
       "    <tr>\n",
       "      <th>3</th>\n",
       "      <td>LP001006</td>\n",
       "      <td>Male</td>\n",
       "      <td>Yes</td>\n",
       "      <td>0</td>\n",
       "      <td>Not Graduate</td>\n",
       "      <td>No</td>\n",
       "      <td>2583</td>\n",
       "      <td>2358.0</td>\n",
       "      <td>120.0</td>\n",
       "      <td>360.0</td>\n",
       "      <td>1.0</td>\n",
       "      <td>Urban</td>\n",
       "      <td>Y</td>\n",
       "    </tr>\n",
       "    <tr>\n",
       "      <th>4</th>\n",
       "      <td>LP001008</td>\n",
       "      <td>Male</td>\n",
       "      <td>No</td>\n",
       "      <td>0</td>\n",
       "      <td>Graduate</td>\n",
       "      <td>No</td>\n",
       "      <td>6000</td>\n",
       "      <td>0.0</td>\n",
       "      <td>141.0</td>\n",
       "      <td>360.0</td>\n",
       "      <td>1.0</td>\n",
       "      <td>Urban</td>\n",
       "      <td>Y</td>\n",
       "    </tr>\n",
       "  </tbody>\n",
       "</table>\n",
       "</div>"
      ],
      "text/plain": [
       "    Loan_ID Gender Married Dependents     Education Self_Employed  \\\n",
       "0  LP001002   Male      No          0      Graduate            No   \n",
       "1  LP001003   Male     Yes          1      Graduate            No   \n",
       "2  LP001005   Male     Yes          0      Graduate           Yes   \n",
       "3  LP001006   Male     Yes          0  Not Graduate            No   \n",
       "4  LP001008   Male      No          0      Graduate            No   \n",
       "\n",
       "   ApplicantIncome  CoapplicantIncome  LoanAmount  Loan_Amount_Term  \\\n",
       "0             5849                0.0         NaN             360.0   \n",
       "1             4583             1508.0       128.0             360.0   \n",
       "2             3000                0.0        66.0             360.0   \n",
       "3             2583             2358.0       120.0             360.0   \n",
       "4             6000                0.0       141.0             360.0   \n",
       "\n",
       "   Credit_History Property_Area Loan_Status  \n",
       "0             1.0         Urban           Y  \n",
       "1             1.0         Rural           N  \n",
       "2             1.0         Urban           Y  \n",
       "3             1.0         Urban           Y  \n",
       "4             1.0         Urban           Y  "
      ]
     },
     "execution_count": 4,
     "metadata": {},
     "output_type": "execute_result"
    }
   ],
   "source": [
    " df.head()"
   ]
  },
  {
   "cell_type": "markdown",
   "id": "29d8cc04",
   "metadata": {
    "papermill": {
     "duration": 0.063991,
     "end_time": "2022-01-09T15:08:45.545668",
     "exception": false,
     "start_time": "2022-01-09T15:08:45.481677",
     "status": "completed"
    },
    "tags": []
   },
   "source": [
    "# **Dimensions of Dataset**"
   ]
  },
  {
   "cell_type": "code",
   "execution_count": 5,
   "id": "7569c198",
   "metadata": {
    "execution": {
     "iopub.execute_input": "2022-01-09T15:08:45.680757Z",
     "iopub.status.busy": "2022-01-09T15:08:45.680063Z",
     "iopub.status.idle": "2022-01-09T15:08:45.684166Z",
     "shell.execute_reply": "2022-01-09T15:08:45.683521Z",
     "shell.execute_reply.started": "2022-01-09T15:07:20.208025Z"
    },
    "papermill": {
     "duration": 0.073172,
     "end_time": "2022-01-09T15:08:45.684302",
     "exception": false,
     "start_time": "2022-01-09T15:08:45.611130",
     "status": "completed"
    },
    "tags": []
   },
   "outputs": [
    {
     "data": {
      "text/plain": [
       "(614, 13)"
      ]
     },
     "execution_count": 5,
     "metadata": {},
     "output_type": "execute_result"
    }
   ],
   "source": [
    "df.shape"
   ]
  },
  {
   "cell_type": "markdown",
   "id": "c78eea9f",
   "metadata": {
    "papermill": {
     "duration": 0.063986,
     "end_time": "2022-01-09T15:08:45.811830",
     "exception": false,
     "start_time": "2022-01-09T15:08:45.747844",
     "status": "completed"
    },
    "tags": []
   },
   "source": [
    "# **Information of the dataset**"
   ]
  },
  {
   "cell_type": "code",
   "execution_count": 6,
   "id": "6ed3f2ca",
   "metadata": {
    "execution": {
     "iopub.execute_input": "2022-01-09T15:08:45.945093Z",
     "iopub.status.busy": "2022-01-09T15:08:45.944362Z",
     "iopub.status.idle": "2022-01-09T15:08:45.963438Z",
     "shell.execute_reply": "2022-01-09T15:08:45.964240Z",
     "shell.execute_reply.started": "2022-01-09T15:07:20.455255Z"
    },
    "papermill": {
     "duration": 0.089501,
     "end_time": "2022-01-09T15:08:45.964660",
     "exception": false,
     "start_time": "2022-01-09T15:08:45.875159",
     "status": "completed"
    },
    "tags": []
   },
   "outputs": [
    {
     "name": "stdout",
     "output_type": "stream",
     "text": [
      "<class 'pandas.core.frame.DataFrame'>\n",
      "RangeIndex: 614 entries, 0 to 613\n",
      "Data columns (total 13 columns):\n",
      " #   Column             Non-Null Count  Dtype  \n",
      "---  ------             --------------  -----  \n",
      " 0   Loan_ID            614 non-null    object \n",
      " 1   Gender             601 non-null    object \n",
      " 2   Married            611 non-null    object \n",
      " 3   Dependents         599 non-null    object \n",
      " 4   Education          614 non-null    object \n",
      " 5   Self_Employed      582 non-null    object \n",
      " 6   ApplicantIncome    614 non-null    int64  \n",
      " 7   CoapplicantIncome  614 non-null    float64\n",
      " 8   LoanAmount         592 non-null    float64\n",
      " 9   Loan_Amount_Term   600 non-null    float64\n",
      " 10  Credit_History     564 non-null    float64\n",
      " 11  Property_Area      614 non-null    object \n",
      " 12  Loan_Status        614 non-null    object \n",
      "dtypes: float64(4), int64(1), object(8)\n",
      "memory usage: 62.5+ KB\n"
     ]
    }
   ],
   "source": [
    "df.info()"
   ]
  },
  {
   "cell_type": "markdown",
   "id": "526b28dd",
   "metadata": {
    "papermill": {
     "duration": 0.066109,
     "end_time": "2022-01-09T15:08:46.100211",
     "exception": false,
     "start_time": "2022-01-09T15:08:46.034102",
     "status": "completed"
    },
    "tags": []
   },
   "source": [
    "# **Statistical Summary**"
   ]
  },
  {
   "cell_type": "code",
   "execution_count": 7,
   "id": "9cf953ed",
   "metadata": {
    "execution": {
     "iopub.execute_input": "2022-01-09T15:08:46.232752Z",
     "iopub.status.busy": "2022-01-09T15:08:46.232049Z",
     "iopub.status.idle": "2022-01-09T15:08:46.260399Z",
     "shell.execute_reply": "2022-01-09T15:08:46.259779Z",
     "shell.execute_reply.started": "2022-01-09T15:07:21.331972Z"
    },
    "papermill": {
     "duration": 0.095291,
     "end_time": "2022-01-09T15:08:46.260570",
     "exception": false,
     "start_time": "2022-01-09T15:08:46.165279",
     "status": "completed"
    },
    "tags": []
   },
   "outputs": [
    {
     "data": {
      "text/html": [
       "<div>\n",
       "<style scoped>\n",
       "    .dataframe tbody tr th:only-of-type {\n",
       "        vertical-align: middle;\n",
       "    }\n",
       "\n",
       "    .dataframe tbody tr th {\n",
       "        vertical-align: top;\n",
       "    }\n",
       "\n",
       "    .dataframe thead th {\n",
       "        text-align: right;\n",
       "    }\n",
       "</style>\n",
       "<table border=\"1\" class=\"dataframe\">\n",
       "  <thead>\n",
       "    <tr style=\"text-align: right;\">\n",
       "      <th></th>\n",
       "      <th>ApplicantIncome</th>\n",
       "      <th>CoapplicantIncome</th>\n",
       "      <th>LoanAmount</th>\n",
       "      <th>Loan_Amount_Term</th>\n",
       "      <th>Credit_History</th>\n",
       "    </tr>\n",
       "  </thead>\n",
       "  <tbody>\n",
       "    <tr>\n",
       "      <th>count</th>\n",
       "      <td>614.000000</td>\n",
       "      <td>614.000000</td>\n",
       "      <td>592.000000</td>\n",
       "      <td>600.00000</td>\n",
       "      <td>564.000000</td>\n",
       "    </tr>\n",
       "    <tr>\n",
       "      <th>mean</th>\n",
       "      <td>5403.459283</td>\n",
       "      <td>1621.245798</td>\n",
       "      <td>146.412162</td>\n",
       "      <td>342.00000</td>\n",
       "      <td>0.842199</td>\n",
       "    </tr>\n",
       "    <tr>\n",
       "      <th>std</th>\n",
       "      <td>6109.041673</td>\n",
       "      <td>2926.248369</td>\n",
       "      <td>85.587325</td>\n",
       "      <td>65.12041</td>\n",
       "      <td>0.364878</td>\n",
       "    </tr>\n",
       "    <tr>\n",
       "      <th>min</th>\n",
       "      <td>150.000000</td>\n",
       "      <td>0.000000</td>\n",
       "      <td>9.000000</td>\n",
       "      <td>12.00000</td>\n",
       "      <td>0.000000</td>\n",
       "    </tr>\n",
       "    <tr>\n",
       "      <th>25%</th>\n",
       "      <td>2877.500000</td>\n",
       "      <td>0.000000</td>\n",
       "      <td>100.000000</td>\n",
       "      <td>360.00000</td>\n",
       "      <td>1.000000</td>\n",
       "    </tr>\n",
       "    <tr>\n",
       "      <th>50%</th>\n",
       "      <td>3812.500000</td>\n",
       "      <td>1188.500000</td>\n",
       "      <td>128.000000</td>\n",
       "      <td>360.00000</td>\n",
       "      <td>1.000000</td>\n",
       "    </tr>\n",
       "    <tr>\n",
       "      <th>75%</th>\n",
       "      <td>5795.000000</td>\n",
       "      <td>2297.250000</td>\n",
       "      <td>168.000000</td>\n",
       "      <td>360.00000</td>\n",
       "      <td>1.000000</td>\n",
       "    </tr>\n",
       "    <tr>\n",
       "      <th>max</th>\n",
       "      <td>81000.000000</td>\n",
       "      <td>41667.000000</td>\n",
       "      <td>700.000000</td>\n",
       "      <td>480.00000</td>\n",
       "      <td>1.000000</td>\n",
       "    </tr>\n",
       "  </tbody>\n",
       "</table>\n",
       "</div>"
      ],
      "text/plain": [
       "       ApplicantIncome  CoapplicantIncome  LoanAmount  Loan_Amount_Term  \\\n",
       "count       614.000000         614.000000  592.000000         600.00000   \n",
       "mean       5403.459283        1621.245798  146.412162         342.00000   \n",
       "std        6109.041673        2926.248369   85.587325          65.12041   \n",
       "min         150.000000           0.000000    9.000000          12.00000   \n",
       "25%        2877.500000           0.000000  100.000000         360.00000   \n",
       "50%        3812.500000        1188.500000  128.000000         360.00000   \n",
       "75%        5795.000000        2297.250000  168.000000         360.00000   \n",
       "max       81000.000000       41667.000000  700.000000         480.00000   \n",
       "\n",
       "       Credit_History  \n",
       "count      564.000000  \n",
       "mean         0.842199  \n",
       "std          0.364878  \n",
       "min          0.000000  \n",
       "25%          1.000000  \n",
       "50%          1.000000  \n",
       "75%          1.000000  \n",
       "max          1.000000  "
      ]
     },
     "execution_count": 7,
     "metadata": {},
     "output_type": "execute_result"
    }
   ],
   "source": [
    "df.describe()"
   ]
  },
  {
   "cell_type": "markdown",
   "id": "1ac9c86d",
   "metadata": {
    "papermill": {
     "duration": 0.065013,
     "end_time": "2022-01-09T15:08:46.394889",
     "exception": false,
     "start_time": "2022-01-09T15:08:46.329876",
     "status": "completed"
    },
    "tags": []
   },
   "source": [
    "# **Missing values**"
   ]
  },
  {
   "cell_type": "code",
   "execution_count": 8,
   "id": "467c78c1",
   "metadata": {
    "execution": {
     "iopub.execute_input": "2022-01-09T15:08:46.529382Z",
     "iopub.status.busy": "2022-01-09T15:08:46.528697Z",
     "iopub.status.idle": "2022-01-09T15:08:46.536765Z",
     "shell.execute_reply": "2022-01-09T15:08:46.537312Z",
     "shell.execute_reply.started": "2022-01-09T15:07:21.475752Z"
    },
    "papermill": {
     "duration": 0.076812,
     "end_time": "2022-01-09T15:08:46.537496",
     "exception": false,
     "start_time": "2022-01-09T15:08:46.460684",
     "status": "completed"
    },
    "tags": []
   },
   "outputs": [
    {
     "data": {
      "text/plain": [
       "Loan_ID               0\n",
       "Gender               13\n",
       "Married               3\n",
       "Dependents           15\n",
       "Education             0\n",
       "Self_Employed        32\n",
       "ApplicantIncome       0\n",
       "CoapplicantIncome     0\n",
       "LoanAmount           22\n",
       "Loan_Amount_Term     14\n",
       "Credit_History       50\n",
       "Property_Area         0\n",
       "Loan_Status           0\n",
       "dtype: int64"
      ]
     },
     "execution_count": 8,
     "metadata": {},
     "output_type": "execute_result"
    }
   ],
   "source": [
    "df.isnull().sum()"
   ]
  },
  {
   "cell_type": "code",
   "execution_count": 9,
   "id": "2dd5b87e",
   "metadata": {
    "execution": {
     "iopub.execute_input": "2022-01-09T15:08:46.670466Z",
     "iopub.status.busy": "2022-01-09T15:08:46.669802Z",
     "iopub.status.idle": "2022-01-09T15:08:46.682767Z",
     "shell.execute_reply": "2022-01-09T15:08:46.683305Z",
     "shell.execute_reply.started": "2022-01-09T15:07:23.251164Z"
    },
    "papermill": {
     "duration": 0.081435,
     "end_time": "2022-01-09T15:08:46.683479",
     "exception": false,
     "start_time": "2022-01-09T15:08:46.602044",
     "status": "completed"
    },
    "tags": []
   },
   "outputs": [],
   "source": [
    "df.LoanAmount=df.LoanAmount.fillna(df.LoanAmount.mean())\n",
    "\n",
    "df.Credit_History=df.Credit_History.fillna(df.Credit_History.mean())\n",
    "\n",
    "df.Loan_Amount_Term=df.Loan_Amount_Term.fillna(df.Loan_Amount_Term.mean())\n",
    "\n",
    "df['Gender'].fillna(df['Gender'].value_counts().idxmax(), inplace=True)\n",
    "\n",
    "df['Married'].fillna(df['Married'].value_counts().idxmax(), inplace=True)\n",
    "\n",
    "df.Dependents.fillna(df.Dependents.value_counts().idxmax(), inplace=True)\n",
    "\n",
    "df.Self_Employed.fillna(df.Self_Employed.value_counts().idxmax(), inplace=True)"
   ]
  },
  {
   "cell_type": "code",
   "execution_count": 10,
   "id": "f39671a0",
   "metadata": {
    "execution": {
     "iopub.execute_input": "2022-01-09T15:08:46.822896Z",
     "iopub.status.busy": "2022-01-09T15:08:46.821641Z",
     "iopub.status.idle": "2022-01-09T15:08:46.828378Z",
     "shell.execute_reply": "2022-01-09T15:08:46.828994Z",
     "shell.execute_reply.started": "2022-01-09T15:07:23.831538Z"
    },
    "papermill": {
     "duration": 0.079506,
     "end_time": "2022-01-09T15:08:46.829174",
     "exception": false,
     "start_time": "2022-01-09T15:08:46.749668",
     "status": "completed"
    },
    "tags": []
   },
   "outputs": [
    {
     "data": {
      "text/plain": [
       "Loan_ID              0\n",
       "Gender               0\n",
       "Married              0\n",
       "Dependents           0\n",
       "Education            0\n",
       "Self_Employed        0\n",
       "ApplicantIncome      0\n",
       "CoapplicantIncome    0\n",
       "LoanAmount           0\n",
       "Loan_Amount_Term     0\n",
       "Credit_History       0\n",
       "Property_Area        0\n",
       "Loan_Status          0\n",
       "dtype: int64"
      ]
     },
     "execution_count": 10,
     "metadata": {},
     "output_type": "execute_result"
    }
   ],
   "source": [
    "df.isnull().sum()"
   ]
  },
  {
   "cell_type": "markdown",
   "id": "6476eed8",
   "metadata": {
    "papermill": {
     "duration": 0.065363,
     "end_time": "2022-01-09T15:08:46.966444",
     "exception": false,
     "start_time": "2022-01-09T15:08:46.901081",
     "status": "completed"
    },
    "tags": []
   },
   "source": [
    "# **Duplicate Entries**"
   ]
  },
  {
   "cell_type": "code",
   "execution_count": 11,
   "id": "259dbc06",
   "metadata": {
    "execution": {
     "iopub.execute_input": "2022-01-09T15:08:47.104174Z",
     "iopub.status.busy": "2022-01-09T15:08:47.103477Z",
     "iopub.status.idle": "2022-01-09T15:08:47.116068Z",
     "shell.execute_reply": "2022-01-09T15:08:47.116610Z",
     "shell.execute_reply.started": "2022-01-09T15:07:24.647375Z"
    },
    "papermill": {
     "duration": 0.081483,
     "end_time": "2022-01-09T15:08:47.116783",
     "exception": false,
     "start_time": "2022-01-09T15:08:47.035300",
     "status": "completed"
    },
    "tags": []
   },
   "outputs": [
    {
     "data": {
      "text/plain": [
       "0"
      ]
     },
     "execution_count": 11,
     "metadata": {},
     "output_type": "execute_result"
    }
   ],
   "source": [
    "df.duplicated().sum()"
   ]
  },
  {
   "cell_type": "markdown",
   "id": "f971698b",
   "metadata": {
    "papermill": {
     "duration": 0.066103,
     "end_time": "2022-01-09T15:08:47.249358",
     "exception": false,
     "start_time": "2022-01-09T15:08:47.183255",
     "status": "completed"
    },
    "tags": []
   },
   "source": [
    "# **unwanted columns**"
   ]
  },
  {
   "cell_type": "code",
   "execution_count": 12,
   "id": "bcb301df",
   "metadata": {
    "execution": {
     "iopub.execute_input": "2022-01-09T15:08:47.386242Z",
     "iopub.status.busy": "2022-01-09T15:08:47.385262Z",
     "iopub.status.idle": "2022-01-09T15:08:47.411020Z",
     "shell.execute_reply": "2022-01-09T15:08:47.410353Z",
     "shell.execute_reply.started": "2022-01-09T15:07:25.647551Z"
    },
    "papermill": {
     "duration": 0.09563,
     "end_time": "2022-01-09T15:08:47.411162",
     "exception": false,
     "start_time": "2022-01-09T15:08:47.315532",
     "status": "completed"
    },
    "tags": []
   },
   "outputs": [
    {
     "data": {
      "text/html": [
       "<div>\n",
       "<style scoped>\n",
       "    .dataframe tbody tr th:only-of-type {\n",
       "        vertical-align: middle;\n",
       "    }\n",
       "\n",
       "    .dataframe tbody tr th {\n",
       "        vertical-align: top;\n",
       "    }\n",
       "\n",
       "    .dataframe thead th {\n",
       "        text-align: right;\n",
       "    }\n",
       "</style>\n",
       "<table border=\"1\" class=\"dataframe\">\n",
       "  <thead>\n",
       "    <tr style=\"text-align: right;\">\n",
       "      <th></th>\n",
       "      <th>Gender</th>\n",
       "      <th>Married</th>\n",
       "      <th>Dependents</th>\n",
       "      <th>Education</th>\n",
       "      <th>Self_Employed</th>\n",
       "      <th>ApplicantIncome</th>\n",
       "      <th>CoapplicantIncome</th>\n",
       "      <th>LoanAmount</th>\n",
       "      <th>Loan_Amount_Term</th>\n",
       "      <th>Credit_History</th>\n",
       "      <th>Property_Area</th>\n",
       "      <th>Loan_Status</th>\n",
       "    </tr>\n",
       "  </thead>\n",
       "  <tbody>\n",
       "    <tr>\n",
       "      <th>0</th>\n",
       "      <td>Male</td>\n",
       "      <td>No</td>\n",
       "      <td>0</td>\n",
       "      <td>Graduate</td>\n",
       "      <td>No</td>\n",
       "      <td>5849</td>\n",
       "      <td>0.0</td>\n",
       "      <td>146.412162</td>\n",
       "      <td>360.0</td>\n",
       "      <td>1.0</td>\n",
       "      <td>Urban</td>\n",
       "      <td>Y</td>\n",
       "    </tr>\n",
       "    <tr>\n",
       "      <th>1</th>\n",
       "      <td>Male</td>\n",
       "      <td>Yes</td>\n",
       "      <td>1</td>\n",
       "      <td>Graduate</td>\n",
       "      <td>No</td>\n",
       "      <td>4583</td>\n",
       "      <td>1508.0</td>\n",
       "      <td>128.000000</td>\n",
       "      <td>360.0</td>\n",
       "      <td>1.0</td>\n",
       "      <td>Rural</td>\n",
       "      <td>N</td>\n",
       "    </tr>\n",
       "    <tr>\n",
       "      <th>2</th>\n",
       "      <td>Male</td>\n",
       "      <td>Yes</td>\n",
       "      <td>0</td>\n",
       "      <td>Graduate</td>\n",
       "      <td>Yes</td>\n",
       "      <td>3000</td>\n",
       "      <td>0.0</td>\n",
       "      <td>66.000000</td>\n",
       "      <td>360.0</td>\n",
       "      <td>1.0</td>\n",
       "      <td>Urban</td>\n",
       "      <td>Y</td>\n",
       "    </tr>\n",
       "    <tr>\n",
       "      <th>3</th>\n",
       "      <td>Male</td>\n",
       "      <td>Yes</td>\n",
       "      <td>0</td>\n",
       "      <td>Not Graduate</td>\n",
       "      <td>No</td>\n",
       "      <td>2583</td>\n",
       "      <td>2358.0</td>\n",
       "      <td>120.000000</td>\n",
       "      <td>360.0</td>\n",
       "      <td>1.0</td>\n",
       "      <td>Urban</td>\n",
       "      <td>Y</td>\n",
       "    </tr>\n",
       "    <tr>\n",
       "      <th>4</th>\n",
       "      <td>Male</td>\n",
       "      <td>No</td>\n",
       "      <td>0</td>\n",
       "      <td>Graduate</td>\n",
       "      <td>No</td>\n",
       "      <td>6000</td>\n",
       "      <td>0.0</td>\n",
       "      <td>141.000000</td>\n",
       "      <td>360.0</td>\n",
       "      <td>1.0</td>\n",
       "      <td>Urban</td>\n",
       "      <td>Y</td>\n",
       "    </tr>\n",
       "    <tr>\n",
       "      <th>...</th>\n",
       "      <td>...</td>\n",
       "      <td>...</td>\n",
       "      <td>...</td>\n",
       "      <td>...</td>\n",
       "      <td>...</td>\n",
       "      <td>...</td>\n",
       "      <td>...</td>\n",
       "      <td>...</td>\n",
       "      <td>...</td>\n",
       "      <td>...</td>\n",
       "      <td>...</td>\n",
       "      <td>...</td>\n",
       "    </tr>\n",
       "    <tr>\n",
       "      <th>609</th>\n",
       "      <td>Female</td>\n",
       "      <td>No</td>\n",
       "      <td>0</td>\n",
       "      <td>Graduate</td>\n",
       "      <td>No</td>\n",
       "      <td>2900</td>\n",
       "      <td>0.0</td>\n",
       "      <td>71.000000</td>\n",
       "      <td>360.0</td>\n",
       "      <td>1.0</td>\n",
       "      <td>Rural</td>\n",
       "      <td>Y</td>\n",
       "    </tr>\n",
       "    <tr>\n",
       "      <th>610</th>\n",
       "      <td>Male</td>\n",
       "      <td>Yes</td>\n",
       "      <td>3+</td>\n",
       "      <td>Graduate</td>\n",
       "      <td>No</td>\n",
       "      <td>4106</td>\n",
       "      <td>0.0</td>\n",
       "      <td>40.000000</td>\n",
       "      <td>180.0</td>\n",
       "      <td>1.0</td>\n",
       "      <td>Rural</td>\n",
       "      <td>Y</td>\n",
       "    </tr>\n",
       "    <tr>\n",
       "      <th>611</th>\n",
       "      <td>Male</td>\n",
       "      <td>Yes</td>\n",
       "      <td>1</td>\n",
       "      <td>Graduate</td>\n",
       "      <td>No</td>\n",
       "      <td>8072</td>\n",
       "      <td>240.0</td>\n",
       "      <td>253.000000</td>\n",
       "      <td>360.0</td>\n",
       "      <td>1.0</td>\n",
       "      <td>Urban</td>\n",
       "      <td>Y</td>\n",
       "    </tr>\n",
       "    <tr>\n",
       "      <th>612</th>\n",
       "      <td>Male</td>\n",
       "      <td>Yes</td>\n",
       "      <td>2</td>\n",
       "      <td>Graduate</td>\n",
       "      <td>No</td>\n",
       "      <td>7583</td>\n",
       "      <td>0.0</td>\n",
       "      <td>187.000000</td>\n",
       "      <td>360.0</td>\n",
       "      <td>1.0</td>\n",
       "      <td>Urban</td>\n",
       "      <td>Y</td>\n",
       "    </tr>\n",
       "    <tr>\n",
       "      <th>613</th>\n",
       "      <td>Female</td>\n",
       "      <td>No</td>\n",
       "      <td>0</td>\n",
       "      <td>Graduate</td>\n",
       "      <td>Yes</td>\n",
       "      <td>4583</td>\n",
       "      <td>0.0</td>\n",
       "      <td>133.000000</td>\n",
       "      <td>360.0</td>\n",
       "      <td>0.0</td>\n",
       "      <td>Semiurban</td>\n",
       "      <td>N</td>\n",
       "    </tr>\n",
       "  </tbody>\n",
       "</table>\n",
       "<p>614 rows × 12 columns</p>\n",
       "</div>"
      ],
      "text/plain": [
       "     Gender Married Dependents     Education Self_Employed  ApplicantIncome  \\\n",
       "0      Male      No          0      Graduate            No             5849   \n",
       "1      Male     Yes          1      Graduate            No             4583   \n",
       "2      Male     Yes          0      Graduate           Yes             3000   \n",
       "3      Male     Yes          0  Not Graduate            No             2583   \n",
       "4      Male      No          0      Graduate            No             6000   \n",
       "..      ...     ...        ...           ...           ...              ...   \n",
       "609  Female      No          0      Graduate            No             2900   \n",
       "610    Male     Yes         3+      Graduate            No             4106   \n",
       "611    Male     Yes          1      Graduate            No             8072   \n",
       "612    Male     Yes          2      Graduate            No             7583   \n",
       "613  Female      No          0      Graduate           Yes             4583   \n",
       "\n",
       "     CoapplicantIncome  LoanAmount  Loan_Amount_Term  Credit_History  \\\n",
       "0                  0.0  146.412162             360.0             1.0   \n",
       "1               1508.0  128.000000             360.0             1.0   \n",
       "2                  0.0   66.000000             360.0             1.0   \n",
       "3               2358.0  120.000000             360.0             1.0   \n",
       "4                  0.0  141.000000             360.0             1.0   \n",
       "..                 ...         ...               ...             ...   \n",
       "609                0.0   71.000000             360.0             1.0   \n",
       "610                0.0   40.000000             180.0             1.0   \n",
       "611              240.0  253.000000             360.0             1.0   \n",
       "612                0.0  187.000000             360.0             1.0   \n",
       "613                0.0  133.000000             360.0             0.0   \n",
       "\n",
       "    Property_Area Loan_Status  \n",
       "0           Urban           Y  \n",
       "1           Rural           N  \n",
       "2           Urban           Y  \n",
       "3           Urban           Y  \n",
       "4           Urban           Y  \n",
       "..            ...         ...  \n",
       "609         Rural           Y  \n",
       "610         Rural           Y  \n",
       "611         Urban           Y  \n",
       "612         Urban           Y  \n",
       "613     Semiurban           N  \n",
       "\n",
       "[614 rows x 12 columns]"
      ]
     },
     "execution_count": 12,
     "metadata": {},
     "output_type": "execute_result"
    }
   ],
   "source": [
    "df.drop(['Loan_ID'],axis=1)"
   ]
  },
  {
   "cell_type": "markdown",
   "id": "91330a80",
   "metadata": {
    "papermill": {
     "duration": 0.066539,
     "end_time": "2022-01-09T15:08:47.543982",
     "exception": false,
     "start_time": "2022-01-09T15:08:47.477443",
     "status": "completed"
    },
    "tags": []
   },
   "source": [
    "# **Outliers**"
   ]
  },
  {
   "cell_type": "code",
   "execution_count": 13,
   "id": "7b03803e",
   "metadata": {
    "execution": {
     "iopub.execute_input": "2022-01-09T15:08:47.682850Z",
     "iopub.status.busy": "2022-01-09T15:08:47.681828Z",
     "iopub.status.idle": "2022-01-09T15:08:47.689972Z",
     "shell.execute_reply": "2022-01-09T15:08:47.690529Z",
     "shell.execute_reply.started": "2022-01-09T15:07:25.812141Z"
    },
    "papermill": {
     "duration": 0.08044,
     "end_time": "2022-01-09T15:08:47.690733",
     "exception": false,
     "start_time": "2022-01-09T15:08:47.610293",
     "status": "completed"
    },
    "tags": []
   },
   "outputs": [
    {
     "data": {
      "text/plain": [
       "ApplicantIncome      6.539513\n",
       "CoapplicantIncome    7.491531\n",
       "LoanAmount           2.726601\n",
       "Loan_Amount_Term    -2.389680\n",
       "Credit_History      -1.963600\n",
       "dtype: float64"
      ]
     },
     "execution_count": 13,
     "metadata": {},
     "output_type": "execute_result"
    }
   ],
   "source": [
    "df.skew()"
   ]
  },
  {
   "cell_type": "code",
   "execution_count": 14,
   "id": "5818db51",
   "metadata": {
    "execution": {
     "iopub.execute_input": "2022-01-09T15:08:47.828886Z",
     "iopub.status.busy": "2022-01-09T15:08:47.828202Z",
     "iopub.status.idle": "2022-01-09T15:08:47.854901Z",
     "shell.execute_reply": "2022-01-09T15:08:47.855445Z",
     "shell.execute_reply.started": "2022-01-09T15:07:26.279886Z"
    },
    "papermill": {
     "duration": 0.096785,
     "end_time": "2022-01-09T15:08:47.855635",
     "exception": false,
     "start_time": "2022-01-09T15:08:47.758850",
     "status": "completed"
    },
    "tags": []
   },
   "outputs": [],
   "source": [
    "df.ApplicantIncome=df.ApplicantIncome.clip(lower=df.ApplicantIncome.quantile(0.05),upper=df.ApplicantIncome.quantile(0.95))\n",
    "\n",
    "df.CoapplicantIncome=df.CoapplicantIncome.clip(lower=df.CoapplicantIncome.quantile(0.05),upper=df.CoapplicantIncome.quantile(0.95))\n",
    "\n",
    "df.Loan_Amount_Term=df.Loan_Amount_Term.clip(lower=df.Loan_Amount_Term.quantile(0.14),upper=df.Loan_Amount_Term.quantile(0.86))\n",
    "\n",
    "df.LoanAmount=df.LoanAmount.clip(lower=df.LoanAmount.quantile(0.05),upper=df.LoanAmount.quantile(0.95))\n",
    "\n",
    "df.Credit_History=df.Credit_History.clip(lower=df.Credit_History.quantile(0.05),upper=df.Credit_History.quantile(0.95))\n",
    "\n",
    "df.ApplicantIncome=df.ApplicantIncome.clip(lower=df.ApplicantIncome.quantile(0.10),upper=df.ApplicantIncome.quantile(0.90))"
   ]
  },
  {
   "cell_type": "code",
   "execution_count": 15,
   "id": "7441448d",
   "metadata": {
    "execution": {
     "iopub.execute_input": "2022-01-09T15:08:47.997737Z",
     "iopub.status.busy": "2022-01-09T15:08:47.996629Z",
     "iopub.status.idle": "2022-01-09T15:08:48.004422Z",
     "shell.execute_reply": "2022-01-09T15:08:48.005017Z",
     "shell.execute_reply.started": "2022-01-09T15:07:26.650925Z"
    },
    "papermill": {
     "duration": 0.082979,
     "end_time": "2022-01-09T15:08:48.005212",
     "exception": false,
     "start_time": "2022-01-09T15:08:47.922233",
     "status": "completed"
    },
    "tags": []
   },
   "outputs": [
    {
     "data": {
      "text/plain": [
       "ApplicantIncome      1.017728\n",
       "CoapplicantIncome    0.845204\n",
       "LoanAmount           1.042174\n",
       "Loan_Amount_Term    -2.059922\n",
       "Credit_History      -1.963600\n",
       "dtype: float64"
      ]
     },
     "execution_count": 15,
     "metadata": {},
     "output_type": "execute_result"
    }
   ],
   "source": [
    "df.skew()"
   ]
  },
  {
   "cell_type": "code",
   "execution_count": 16,
   "id": "61483f3b",
   "metadata": {
    "execution": {
     "iopub.execute_input": "2022-01-09T15:08:48.145948Z",
     "iopub.status.busy": "2022-01-09T15:08:48.145000Z",
     "iopub.status.idle": "2022-01-09T15:08:48.157459Z",
     "shell.execute_reply": "2022-01-09T15:08:48.157943Z",
     "shell.execute_reply.started": "2022-01-09T15:07:26.947619Z"
    },
    "papermill": {
     "duration": 0.08427,
     "end_time": "2022-01-09T15:08:48.158117",
     "exception": false,
     "start_time": "2022-01-09T15:08:48.073847",
     "status": "completed"
    },
    "tags": []
   },
   "outputs": [
    {
     "name": "stdout",
     "output_type": "stream",
     "text": [
      "<class 'pandas.core.frame.DataFrame'>\n",
      "RangeIndex: 614 entries, 0 to 613\n",
      "Data columns (total 13 columns):\n",
      " #   Column             Non-Null Count  Dtype  \n",
      "---  ------             --------------  -----  \n",
      " 0   Loan_ID            614 non-null    object \n",
      " 1   Gender             614 non-null    object \n",
      " 2   Married            614 non-null    object \n",
      " 3   Dependents         614 non-null    object \n",
      " 4   Education          614 non-null    object \n",
      " 5   Self_Employed      614 non-null    object \n",
      " 6   ApplicantIncome    614 non-null    float64\n",
      " 7   CoapplicantIncome  614 non-null    float64\n",
      " 8   LoanAmount         614 non-null    float64\n",
      " 9   Loan_Amount_Term   614 non-null    float64\n",
      " 10  Credit_History     614 non-null    float64\n",
      " 11  Property_Area      614 non-null    object \n",
      " 12  Loan_Status        614 non-null    object \n",
      "dtypes: float64(5), object(8)\n",
      "memory usage: 62.5+ KB\n"
     ]
    }
   ],
   "source": [
    "df.info()"
   ]
  },
  {
   "cell_type": "markdown",
   "id": "ad446d25",
   "metadata": {
    "papermill": {
     "duration": 0.066833,
     "end_time": "2022-01-09T15:08:48.292053",
     "exception": false,
     "start_time": "2022-01-09T15:08:48.225220",
     "status": "completed"
    },
    "tags": []
   },
   "source": [
    "## **Analyzing Features**"
   ]
  },
  {
   "cell_type": "markdown",
   "id": "9b824e50",
   "metadata": {
    "papermill": {
     "duration": 0.067004,
     "end_time": "2022-01-09T15:08:48.427753",
     "exception": false,
     "start_time": "2022-01-09T15:08:48.360749",
     "status": "completed"
    },
    "tags": []
   },
   "source": [
    "# ***Univariate Analysis***"
   ]
  },
  {
   "cell_type": "code",
   "execution_count": 17,
   "id": "c56e06a3",
   "metadata": {
    "execution": {
     "iopub.execute_input": "2022-01-09T15:08:48.568656Z",
     "iopub.status.busy": "2022-01-09T15:08:48.567625Z",
     "iopub.status.idle": "2022-01-09T15:08:48.758615Z",
     "shell.execute_reply": "2022-01-09T15:08:48.757884Z",
     "shell.execute_reply.started": "2022-01-09T15:07:27.535059Z"
    },
    "papermill": {
     "duration": 0.263598,
     "end_time": "2022-01-09T15:08:48.758766",
     "exception": false,
     "start_time": "2022-01-09T15:08:48.495168",
     "status": "completed"
    },
    "tags": []
   },
   "outputs": [
    {
     "data": {
      "image/png": "[encoded data removed]",
      "text/plain": [
       "<Figure size 576x288 with 1 Axes>"
      ]
     },
     "metadata": {
      "needs_background": "light"
     },
     "output_type": "display_data"
    }
   ],
   "source": [
    "plt.figure(figsize=(8,4))\n",
    "sns.countplot(df.Gender)\n",
    "plt.show()"
   ]
  },
  {
   "cell_type": "code",
   "execution_count": 18,
   "id": "89efe9c7",
   "metadata": {
    "execution": {
     "iopub.execute_input": "2022-01-09T15:08:48.913030Z",
     "iopub.status.busy": "2022-01-09T15:08:48.904222Z",
     "iopub.status.idle": "2022-01-09T15:08:49.072419Z",
     "shell.execute_reply": "2022-01-09T15:08:49.072899Z",
     "shell.execute_reply.started": "2022-01-09T15:07:28.484043Z"
    },
    "papermill": {
     "duration": 0.245466,
     "end_time": "2022-01-09T15:08:49.073079",
     "exception": false,
     "start_time": "2022-01-09T15:08:48.827613",
     "status": "completed"
    },
    "tags": []
   },
   "outputs": [
    {
     "data": {
      "image/png": "[encoded data removed]",
      "text/plain": [
       "<Figure size 576x288 with 1 Axes>"
      ]
     },
     "metadata": {
      "needs_background": "light"
     },
     "output_type": "display_data"
    }
   ],
   "source": [
    "plt.figure(figsize=(8,4))\n",
    "sns.countplot(df.Married)\n",
    "plt.show()"
   ]
  },
  {
   "cell_type": "code",
   "execution_count": 19,
   "id": "84f897ed",
   "metadata": {
    "execution": {
     "iopub.execute_input": "2022-01-09T15:08:49.233758Z",
     "iopub.status.busy": "2022-01-09T15:08:49.224753Z",
     "iopub.status.idle": "2022-01-09T15:08:49.401981Z",
     "shell.execute_reply": "2022-01-09T15:08:49.402457Z",
     "shell.execute_reply.started": "2022-01-09T15:07:29.135368Z"
    },
    "papermill": {
     "duration": 0.255979,
     "end_time": "2022-01-09T15:08:49.402653",
     "exception": false,
     "start_time": "2022-01-09T15:08:49.146674",
     "status": "completed"
    },
    "tags": []
   },
   "outputs": [
    {
     "data": {
      "image/png": "[encoded data removed]",
      "text/plain": [
       "<Figure size 576x288 with 1 Axes>"
      ]
     },
     "metadata": {
      "needs_background": "light"
     },
     "output_type": "display_data"
    }
   ],
   "source": [
    "plt.figure(figsize=(8,4))\n",
    "sns.countplot(df.Dependents)\n",
    "plt.show()"
   ]
  },
  {
   "cell_type": "code",
   "execution_count": 20,
   "id": "8d773d4a",
   "metadata": {
    "execution": {
     "iopub.execute_input": "2022-01-09T15:08:49.550963Z",
     "iopub.status.busy": "2022-01-09T15:08:49.550116Z",
     "iopub.status.idle": "2022-01-09T15:08:49.707782Z",
     "shell.execute_reply": "2022-01-09T15:08:49.707110Z",
     "shell.execute_reply.started": "2022-01-09T15:07:29.456012Z"
    },
    "papermill": {
     "duration": 0.234939,
     "end_time": "2022-01-09T15:08:49.707936",
     "exception": false,
     "start_time": "2022-01-09T15:08:49.472997",
     "status": "completed"
    },
    "tags": []
   },
   "outputs": [
    {
     "data": {
      "image/png": "[encoded data removed]",
      "text/plain": [
       "<Figure size 576x288 with 1 Axes>"
      ]
     },
     "metadata": {
      "needs_background": "light"
     },
     "output_type": "display_data"
    }
   ],
   "source": [
    "plt.figure(figsize=(8,4))\n",
    "sns.countplot(df.Education)\n",
    "plt.show()"
   ]
  },
  {
   "cell_type": "code",
   "execution_count": 21,
   "id": "ee3b7dd8",
   "metadata": {
    "execution": {
     "iopub.execute_input": "2022-01-09T15:08:49.857236Z",
     "iopub.status.busy": "2022-01-09T15:08:49.856534Z",
     "iopub.status.idle": "2022-01-09T15:08:50.012912Z",
     "shell.execute_reply": "2022-01-09T15:08:50.013465Z",
     "shell.execute_reply.started": "2022-01-09T15:07:30.467829Z"
    },
    "papermill": {
     "duration": 0.234518,
     "end_time": "2022-01-09T15:08:50.013750",
     "exception": false,
     "start_time": "2022-01-09T15:08:49.779232",
     "status": "completed"
    },
    "tags": []
   },
   "outputs": [
    {
     "data": {
      "image/png": "[encoded data removed]",
      "text/plain": [
       "<Figure size 576x288 with 1 Axes>"
      ]
     },
     "metadata": {
      "needs_background": "light"
     },
     "output_type": "display_data"
    }
   ],
   "source": [
    "plt.figure(figsize=(8,4))\n",
    "sns.countplot(df.Self_Employed)\n",
    "plt.show()"
   ]
  },
  {
   "cell_type": "code",
   "execution_count": 22,
   "id": "8a071523",
   "metadata": {
    "execution": {
     "iopub.execute_input": "2022-01-09T15:08:50.163180Z",
     "iopub.status.busy": "2022-01-09T15:08:50.162091Z",
     "iopub.status.idle": "2022-01-09T15:08:50.323538Z",
     "shell.execute_reply": "2022-01-09T15:08:50.324235Z",
     "shell.execute_reply.started": "2022-01-09T15:07:30.623090Z"
    },
    "papermill": {
     "duration": 0.237346,
     "end_time": "2022-01-09T15:08:50.324530",
     "exception": false,
     "start_time": "2022-01-09T15:08:50.087184",
     "status": "completed"
    },
    "tags": []
   },
   "outputs": [
    {
     "data": {
      "image/png": "[encoded data removed]",
      "text/plain": [
       "<Figure size 576x288 with 1 Axes>"
      ]
     },
     "metadata": {
      "needs_background": "light"
     },
     "output_type": "display_data"
    }
   ],
   "source": [
    "plt.figure(figsize=(8,4))\n",
    "sns.countplot(df.Property_Area)\n",
    "plt.show()"
   ]
  },
  {
   "cell_type": "code",
   "execution_count": 23,
   "id": "36f16fd7",
   "metadata": {
    "execution": {
     "iopub.execute_input": "2022-01-09T15:08:50.477760Z",
     "iopub.status.busy": "2022-01-09T15:08:50.476978Z",
     "iopub.status.idle": "2022-01-09T15:08:50.638077Z",
     "shell.execute_reply": "2022-01-09T15:08:50.637533Z",
     "shell.execute_reply.started": "2022-01-09T15:07:36.404735Z"
    },
    "papermill": {
     "duration": 0.239387,
     "end_time": "2022-01-09T15:08:50.638233",
     "exception": false,
     "start_time": "2022-01-09T15:08:50.398846",
     "status": "completed"
    },
    "tags": []
   },
   "outputs": [
    {
     "data": {
      "image/png": "[encoded data removed]",
      "text/plain": [
       "<Figure size 576x288 with 1 Axes>"
      ]
     },
     "metadata": {
      "needs_background": "light"
     },
     "output_type": "display_data"
    }
   ],
   "source": [
    "plt.figure(figsize=(8,4))\n",
    "sns.countplot(df.Credit_History)\n",
    "plt.show()"
   ]
  },
  {
   "cell_type": "code",
   "execution_count": 24,
   "id": "59c3fb0a",
   "metadata": {
    "execution": {
     "iopub.execute_input": "2022-01-09T15:08:50.827474Z",
     "iopub.status.busy": "2022-01-09T15:08:50.810190Z",
     "iopub.status.idle": "2022-01-09T15:08:51.624061Z",
     "shell.execute_reply": "2022-01-09T15:08:51.623351Z",
     "shell.execute_reply.started": "2022-01-09T15:07:36.577873Z"
    },
    "papermill": {
     "duration": 0.91241,
     "end_time": "2022-01-09T15:08:51.624211",
     "exception": false,
     "start_time": "2022-01-09T15:08:50.711801",
     "status": "completed"
    },
    "tags": []
   },
   "outputs": [
    {
     "data": {
      "image/png": "[encoded data removed]",
      "text/plain": [
       "<Figure size 576x288 with 1 Axes>"
      ]
     },
     "metadata": {
      "needs_background": "light"
     },
     "output_type": "display_data"
    },
    {
     "data": {
      "image/png": "[encoded data removed]",
      "text/plain": [
       "<Figure size 576x288 with 1 Axes>"
      ]
     },
     "metadata": {
      "needs_background": "light"
     },
     "output_type": "display_data"
    },
    {
     "data": {
      "image/png": "[encoded data removed]",
      "text/plain": [
       "<Figure size 576x288 with 1 Axes>"
      ]
     },
     "metadata": {
      "needs_background": "light"
     },
     "output_type": "display_data"
    },
    {
     "data": {
      "image/png": "[encoded data removed]",
      "text/plain": [
       "<Figure size 576x288 with 1 Axes>"
      ]
     },
     "metadata": {
      "needs_background": "light"
     },
     "output_type": "display_data"
    }
   ],
   "source": [
    "num=['ApplicantIncome', 'CoapplicantIncome', 'LoanAmount',\n",
    "       'Loan_Amount_Term']\n",
    "for column in num:\n",
    "    plt.figure(figsize=(8,4))\n",
    "    plt.hist(df[column])\n",
    "    plt.title(column)\n",
    "    plt.show()"
   ]
  },
  {
   "cell_type": "code",
   "execution_count": 25,
   "id": "dc5eca89",
   "metadata": {
    "execution": {
     "iopub.execute_input": "2022-01-09T15:08:51.784966Z",
     "iopub.status.busy": "2022-01-09T15:08:51.780473Z",
     "iopub.status.idle": "2022-01-09T15:08:51.786767Z",
     "shell.execute_reply": "2022-01-09T15:08:51.787283Z",
     "shell.execute_reply.started": "2022-01-09T15:07:37.228936Z"
    },
    "papermill": {
     "duration": 0.086746,
     "end_time": "2022-01-09T15:08:51.787468",
     "exception": false,
     "start_time": "2022-01-09T15:08:51.700722",
     "status": "completed"
    },
    "tags": []
   },
   "outputs": [],
   "source": [
    "df.Loan_Status.replace('N',0,inplace=True)\n",
    "df.Loan_Status.replace('Y',1,inplace=True)"
   ]
  },
  {
   "cell_type": "code",
   "execution_count": 26,
   "id": "832ead66",
   "metadata": {
    "execution": {
     "iopub.execute_input": "2022-01-09T15:08:51.956743Z",
     "iopub.status.busy": "2022-01-09T15:08:51.940134Z",
     "iopub.status.idle": "2022-01-09T15:08:51.959139Z",
     "shell.execute_reply": "2022-01-09T15:08:51.959647Z",
     "shell.execute_reply.started": "2022-01-09T15:07:37.239940Z"
    },
    "papermill": {
     "duration": 0.097866,
     "end_time": "2022-01-09T15:08:51.959818",
     "exception": false,
     "start_time": "2022-01-09T15:08:51.861952",
     "status": "completed"
    },
    "tags": []
   },
   "outputs": [
    {
     "data": {
      "text/html": [
       "<div>\n",
       "<style scoped>\n",
       "    .dataframe tbody tr th:only-of-type {\n",
       "        vertical-align: middle;\n",
       "    }\n",
       "\n",
       "    .dataframe tbody tr th {\n",
       "        vertical-align: top;\n",
       "    }\n",
       "\n",
       "    .dataframe thead th {\n",
       "        text-align: right;\n",
       "    }\n",
       "</style>\n",
       "<table border=\"1\" class=\"dataframe\">\n",
       "  <thead>\n",
       "    <tr style=\"text-align: right;\">\n",
       "      <th></th>\n",
       "      <th>Loan_ID</th>\n",
       "      <th>Gender</th>\n",
       "      <th>Married</th>\n",
       "      <th>Dependents</th>\n",
       "      <th>Education</th>\n",
       "      <th>Self_Employed</th>\n",
       "      <th>ApplicantIncome</th>\n",
       "      <th>CoapplicantIncome</th>\n",
       "      <th>LoanAmount</th>\n",
       "      <th>Loan_Amount_Term</th>\n",
       "      <th>Credit_History</th>\n",
       "      <th>Property_Area</th>\n",
       "      <th>Loan_Status</th>\n",
       "    </tr>\n",
       "  </thead>\n",
       "  <tbody>\n",
       "    <tr>\n",
       "      <th>0</th>\n",
       "      <td>LP001002</td>\n",
       "      <td>Male</td>\n",
       "      <td>No</td>\n",
       "      <td>0</td>\n",
       "      <td>Graduate</td>\n",
       "      <td>No</td>\n",
       "      <td>5849.0</td>\n",
       "      <td>0.0</td>\n",
       "      <td>146.412162</td>\n",
       "      <td>360.0</td>\n",
       "      <td>1.0</td>\n",
       "      <td>Urban</td>\n",
       "      <td>1</td>\n",
       "    </tr>\n",
       "    <tr>\n",
       "      <th>1</th>\n",
       "      <td>LP001003</td>\n",
       "      <td>Male</td>\n",
       "      <td>Yes</td>\n",
       "      <td>1</td>\n",
       "      <td>Graduate</td>\n",
       "      <td>No</td>\n",
       "      <td>4583.0</td>\n",
       "      <td>1508.0</td>\n",
       "      <td>128.000000</td>\n",
       "      <td>360.0</td>\n",
       "      <td>1.0</td>\n",
       "      <td>Rural</td>\n",
       "      <td>0</td>\n",
       "    </tr>\n",
       "    <tr>\n",
       "      <th>2</th>\n",
       "      <td>LP001005</td>\n",
       "      <td>Male</td>\n",
       "      <td>Yes</td>\n",
       "      <td>0</td>\n",
       "      <td>Graduate</td>\n",
       "      <td>Yes</td>\n",
       "      <td>3000.0</td>\n",
       "      <td>0.0</td>\n",
       "      <td>66.000000</td>\n",
       "      <td>360.0</td>\n",
       "      <td>1.0</td>\n",
       "      <td>Urban</td>\n",
       "      <td>1</td>\n",
       "    </tr>\n",
       "    <tr>\n",
       "      <th>3</th>\n",
       "      <td>LP001006</td>\n",
       "      <td>Male</td>\n",
       "      <td>Yes</td>\n",
       "      <td>0</td>\n",
       "      <td>Not Graduate</td>\n",
       "      <td>No</td>\n",
       "      <td>2583.0</td>\n",
       "      <td>2358.0</td>\n",
       "      <td>120.000000</td>\n",
       "      <td>360.0</td>\n",
       "      <td>1.0</td>\n",
       "      <td>Urban</td>\n",
       "      <td>1</td>\n",
       "    </tr>\n",
       "    <tr>\n",
       "      <th>4</th>\n",
       "      <td>LP001008</td>\n",
       "      <td>Male</td>\n",
       "      <td>No</td>\n",
       "      <td>0</td>\n",
       "      <td>Graduate</td>\n",
       "      <td>No</td>\n",
       "      <td>6000.0</td>\n",
       "      <td>0.0</td>\n",
       "      <td>141.000000</td>\n",
       "      <td>360.0</td>\n",
       "      <td>1.0</td>\n",
       "      <td>Urban</td>\n",
       "      <td>1</td>\n",
       "    </tr>\n",
       "  </tbody>\n",
       "</table>\n",
       "</div>"
      ],
      "text/plain": [
       "    Loan_ID Gender Married Dependents     Education Self_Employed  \\\n",
       "0  LP001002   Male      No          0      Graduate            No   \n",
       "1  LP001003   Male     Yes          1      Graduate            No   \n",
       "2  LP001005   Male     Yes          0      Graduate           Yes   \n",
       "3  LP001006   Male     Yes          0  Not Graduate            No   \n",
       "4  LP001008   Male      No          0      Graduate            No   \n",
       "\n",
       "   ApplicantIncome  CoapplicantIncome  LoanAmount  Loan_Amount_Term  \\\n",
       "0           5849.0                0.0  146.412162             360.0   \n",
       "1           4583.0             1508.0  128.000000             360.0   \n",
       "2           3000.0                0.0   66.000000             360.0   \n",
       "3           2583.0             2358.0  120.000000             360.0   \n",
       "4           6000.0                0.0  141.000000             360.0   \n",
       "\n",
       "   Credit_History Property_Area  Loan_Status  \n",
       "0             1.0         Urban            1  \n",
       "1             1.0         Rural            0  \n",
       "2             1.0         Urban            1  \n",
       "3             1.0         Urban            1  \n",
       "4             1.0         Urban            1  "
      ]
     },
     "execution_count": 26,
     "metadata": {},
     "output_type": "execute_result"
    }
   ],
   "source": [
    "df.head()"
   ]
  },
  {
   "cell_type": "markdown",
   "id": "e3025f13",
   "metadata": {
    "papermill": {
     "duration": 0.075741,
     "end_time": "2022-01-09T15:08:52.111383",
     "exception": false,
     "start_time": "2022-01-09T15:08:52.035642",
     "status": "completed"
    },
    "tags": []
   },
   "source": [
    "# ***Bivariate Analysis***"
   ]
  },
  {
   "cell_type": "code",
   "execution_count": 27,
   "id": "916008df",
   "metadata": {
    "execution": {
     "iopub.execute_input": "2022-01-09T15:08:52.293291Z",
     "iopub.status.busy": "2022-01-09T15:08:52.292541Z",
     "iopub.status.idle": "2022-01-09T15:08:52.614398Z",
     "shell.execute_reply": "2022-01-09T15:08:52.615065Z",
     "shell.execute_reply.started": "2022-01-09T15:07:37.268218Z"
    },
    "papermill": {
     "duration": 0.415407,
     "end_time": "2022-01-09T15:08:52.615243",
     "exception": false,
     "start_time": "2022-01-09T15:08:52.199836",
     "status": "completed"
    },
    "tags": []
   },
   "outputs": [
    {
     "data": {
      "image/png": "[encoded data removed]",
      "text/plain": [
       "<Figure size 864x360 with 1 Axes>"
      ]
     },
     "metadata": {
      "needs_background": "light"
     },
     "output_type": "display_data"
    }
   ],
   "source": [
    "plt.figure(figsize=(12,5))\n",
    "sns.distplot(df['ApplicantIncome'][df.Loan_Status==0])\n",
    "sns.distplot(df['ApplicantIncome'][df.Loan_Status==1])\n",
    "plt.legend(['Loan_Status=0','Loan_Status=1'])\n",
    "plt.show()"
   ]
  },
  {
   "cell_type": "code",
   "execution_count": 28,
   "id": "ba9d7822",
   "metadata": {
    "execution": {
     "iopub.execute_input": "2022-01-09T15:08:52.775145Z",
     "iopub.status.busy": "2022-01-09T15:08:52.774403Z",
     "iopub.status.idle": "2022-01-09T15:08:53.245459Z",
     "shell.execute_reply": "2022-01-09T15:08:53.244876Z",
     "shell.execute_reply.started": "2022-01-09T15:07:37.563012Z"
    },
    "papermill": {
     "duration": 0.551167,
     "end_time": "2022-01-09T15:08:53.245641",
     "exception": false,
     "start_time": "2022-01-09T15:08:52.694474",
     "status": "completed"
    },
    "tags": []
   },
   "outputs": [
    {
     "data": {
      "image/png": "[encoded data removed]",
      "text/plain": [
       "<Figure size 864x360 with 1 Axes>"
      ]
     },
     "metadata": {
      "needs_background": "light"
     },
     "output_type": "display_data"
    }
   ],
   "source": [
    "plt.figure(figsize=(12,5))\n",
    "sns.distplot(df['LoanAmount'][df.Loan_Status==0])\n",
    "sns.distplot(df['LoanAmount'][df.Loan_Status==1])\n",
    "plt.legend(['Loan_Status=0','Loan_Status=1'])\n",
    "plt.show()"
   ]
  },
  {
   "cell_type": "code",
   "execution_count": 29,
   "id": "2af6cd5d",
   "metadata": {
    "execution": {
     "iopub.execute_input": "2022-01-09T15:08:53.408990Z",
     "iopub.status.busy": "2022-01-09T15:08:53.408324Z",
     "iopub.status.idle": "2022-01-09T15:08:53.457947Z",
     "shell.execute_reply": "2022-01-09T15:08:53.457350Z",
     "shell.execute_reply.started": "2022-01-09T15:07:38.008742Z"
    },
    "papermill": {
     "duration": 0.133614,
     "end_time": "2022-01-09T15:08:53.458106",
     "exception": false,
     "start_time": "2022-01-09T15:08:53.324492",
     "status": "completed"
    },
    "tags": []
   },
   "outputs": [
    {
     "data": {
      "text/html": [
       "<div>\n",
       "<style scoped>\n",
       "    .dataframe tbody tr th:only-of-type {\n",
       "        vertical-align: middle;\n",
       "    }\n",
       "\n",
       "    .dataframe tbody tr th {\n",
       "        vertical-align: top;\n",
       "    }\n",
       "\n",
       "    .dataframe thead th {\n",
       "        text-align: right;\n",
       "    }\n",
       "</style>\n",
       "<table border=\"1\" class=\"dataframe\">\n",
       "  <thead>\n",
       "    <tr style=\"text-align: right;\">\n",
       "      <th>Loan_Status</th>\n",
       "      <th>0</th>\n",
       "      <th>1</th>\n",
       "      <th>All</th>\n",
       "    </tr>\n",
       "    <tr>\n",
       "      <th>Married</th>\n",
       "      <th></th>\n",
       "      <th></th>\n",
       "      <th></th>\n",
       "    </tr>\n",
       "  </thead>\n",
       "  <tbody>\n",
       "    <tr>\n",
       "      <th>No</th>\n",
       "      <td>79</td>\n",
       "      <td>134</td>\n",
       "      <td>213</td>\n",
       "    </tr>\n",
       "    <tr>\n",
       "      <th>Yes</th>\n",
       "      <td>113</td>\n",
       "      <td>288</td>\n",
       "      <td>401</td>\n",
       "    </tr>\n",
       "    <tr>\n",
       "      <th>All</th>\n",
       "      <td>192</td>\n",
       "      <td>422</td>\n",
       "      <td>614</td>\n",
       "    </tr>\n",
       "  </tbody>\n",
       "</table>\n",
       "</div>"
      ],
      "text/plain": [
       "Loan_Status    0    1  All\n",
       "Married                   \n",
       "No            79  134  213\n",
       "Yes          113  288  401\n",
       "All          192  422  614"
      ]
     },
     "execution_count": 29,
     "metadata": {},
     "output_type": "execute_result"
    }
   ],
   "source": [
    "pivot = pd.crosstab(df.Married,df.Loan_Status,margins=True)\n",
    "pivot"
   ]
  },
  {
   "cell_type": "code",
   "execution_count": 30,
   "id": "8227e8b2",
   "metadata": {
    "execution": {
     "iopub.execute_input": "2022-01-09T15:08:53.624143Z",
     "iopub.status.busy": "2022-01-09T15:08:53.623365Z",
     "iopub.status.idle": "2022-01-09T15:08:53.634159Z",
     "shell.execute_reply": "2022-01-09T15:08:53.633414Z",
     "shell.execute_reply.started": "2022-01-09T15:07:38.056642Z"
    },
    "papermill": {
     "duration": 0.093876,
     "end_time": "2022-01-09T15:08:53.634324",
     "exception": false,
     "start_time": "2022-01-09T15:08:53.540448",
     "status": "completed"
    },
    "tags": []
   },
   "outputs": [
    {
     "data": {
      "text/plain": [
       "Married\n",
       "No     0.629108\n",
       "Yes    0.718204\n",
       "All    0.687296\n",
       "dtype: float64"
      ]
     },
     "execution_count": 30,
     "metadata": {},
     "output_type": "execute_result"
    }
   ],
   "source": [
    "ratio = pivot[1]/pivot['All']\n",
    "ratio"
   ]
  },
  {
   "cell_type": "code",
   "execution_count": 31,
   "id": "f0e9e843",
   "metadata": {
    "execution": {
     "iopub.execute_input": "2022-01-09T15:08:53.800229Z",
     "iopub.status.busy": "2022-01-09T15:08:53.799127Z",
     "iopub.status.idle": "2022-01-09T15:08:54.013784Z",
     "shell.execute_reply": "2022-01-09T15:08:54.013075Z",
     "shell.execute_reply.started": "2022-01-09T15:07:38.067324Z"
    },
    "papermill": {
     "duration": 0.299906,
     "end_time": "2022-01-09T15:08:54.013937",
     "exception": false,
     "start_time": "2022-01-09T15:08:53.714031",
     "status": "completed"
    },
    "tags": []
   },
   "outputs": [
    {
     "data": {
      "text/plain": [
       "<AxesSubplot:xlabel='Married'>"
      ]
     },
     "execution_count": 31,
     "metadata": {},
     "output_type": "execute_result"
    },
    {
     "data": {
      "image/png": "[encoded data removed]",
      "text/plain": [
       "<Figure size 432x288 with 1 Axes>"
      ]
     },
     "metadata": {
      "needs_background": "light"
     },
     "output_type": "display_data"
    }
   ],
   "source": [
    "ratio.plot(kind='bar')"
   ]
  },
  {
   "cell_type": "code",
   "execution_count": 32,
   "id": "ba8c86ad",
   "metadata": {
    "execution": {
     "iopub.execute_input": "2022-01-09T15:08:54.189511Z",
     "iopub.status.busy": "2022-01-09T15:08:54.188760Z",
     "iopub.status.idle": "2022-01-09T15:08:54.227057Z",
     "shell.execute_reply": "2022-01-09T15:08:54.226472Z",
     "shell.execute_reply.started": "2022-01-09T15:07:38.269451Z"
    },
    "papermill": {
     "duration": 0.127722,
     "end_time": "2022-01-09T15:08:54.227211",
     "exception": false,
     "start_time": "2022-01-09T15:08:54.099489",
     "status": "completed"
    },
    "tags": []
   },
   "outputs": [
    {
     "data": {
      "text/html": [
       "<div>\n",
       "<style scoped>\n",
       "    .dataframe tbody tr th:only-of-type {\n",
       "        vertical-align: middle;\n",
       "    }\n",
       "\n",
       "    .dataframe tbody tr th {\n",
       "        vertical-align: top;\n",
       "    }\n",
       "\n",
       "    .dataframe thead th {\n",
       "        text-align: right;\n",
       "    }\n",
       "</style>\n",
       "<table border=\"1\" class=\"dataframe\">\n",
       "  <thead>\n",
       "    <tr style=\"text-align: right;\">\n",
       "      <th>Loan_Status</th>\n",
       "      <th>0</th>\n",
       "      <th>1</th>\n",
       "      <th>All</th>\n",
       "    </tr>\n",
       "    <tr>\n",
       "      <th>Gender</th>\n",
       "      <th></th>\n",
       "      <th></th>\n",
       "      <th></th>\n",
       "    </tr>\n",
       "  </thead>\n",
       "  <tbody>\n",
       "    <tr>\n",
       "      <th>Female</th>\n",
       "      <td>37</td>\n",
       "      <td>75</td>\n",
       "      <td>112</td>\n",
       "    </tr>\n",
       "    <tr>\n",
       "      <th>Male</th>\n",
       "      <td>155</td>\n",
       "      <td>347</td>\n",
       "      <td>502</td>\n",
       "    </tr>\n",
       "    <tr>\n",
       "      <th>All</th>\n",
       "      <td>192</td>\n",
       "      <td>422</td>\n",
       "      <td>614</td>\n",
       "    </tr>\n",
       "  </tbody>\n",
       "</table>\n",
       "</div>"
      ],
      "text/plain": [
       "Loan_Status    0    1  All\n",
       "Gender                    \n",
       "Female        37   75  112\n",
       "Male         155  347  502\n",
       "All          192  422  614"
      ]
     },
     "execution_count": 32,
     "metadata": {},
     "output_type": "execute_result"
    }
   ],
   "source": [
    "pivot1 = pd.crosstab(df.Gender,df.Loan_Status,margins=True)\n",
    "pivot1"
   ]
  },
  {
   "cell_type": "code",
   "execution_count": 33,
   "id": "c8a429dd",
   "metadata": {
    "execution": {
     "iopub.execute_input": "2022-01-09T15:08:54.394178Z",
     "iopub.status.busy": "2022-01-09T15:08:54.393476Z",
     "iopub.status.idle": "2022-01-09T15:08:54.400232Z",
     "shell.execute_reply": "2022-01-09T15:08:54.400845Z",
     "shell.execute_reply.started": "2022-01-09T15:07:38.316542Z"
    },
    "papermill": {
     "duration": 0.092791,
     "end_time": "2022-01-09T15:08:54.401050",
     "exception": false,
     "start_time": "2022-01-09T15:08:54.308259",
     "status": "completed"
    },
    "tags": []
   },
   "outputs": [
    {
     "data": {
      "text/plain": [
       "Gender\n",
       "Female    0.669643\n",
       "Male      0.691235\n",
       "All       0.687296\n",
       "dtype: float64"
      ]
     },
     "execution_count": 33,
     "metadata": {},
     "output_type": "execute_result"
    }
   ],
   "source": [
    "ratio1 = pivot1[1]/pivot1['All']\n",
    "ratio1"
   ]
  },
  {
   "cell_type": "code",
   "execution_count": 34,
   "id": "cf3c0ef7",
   "metadata": {
    "execution": {
     "iopub.execute_input": "2022-01-09T15:08:54.589999Z",
     "iopub.status.busy": "2022-01-09T15:08:54.589156Z",
     "iopub.status.idle": "2022-01-09T15:08:54.758435Z",
     "shell.execute_reply": "2022-01-09T15:08:54.759017Z",
     "shell.execute_reply.started": "2022-01-09T15:07:38.326346Z"
    },
    "papermill": {
     "duration": 0.277993,
     "end_time": "2022-01-09T15:08:54.759188",
     "exception": false,
     "start_time": "2022-01-09T15:08:54.481195",
     "status": "completed"
    },
    "tags": []
   },
   "outputs": [
    {
     "data": {
      "text/plain": [
       "<AxesSubplot:xlabel='Gender'>"
      ]
     },
     "execution_count": 34,
     "metadata": {},
     "output_type": "execute_result"
    },
    {
     "data": {
      "image/png": "[encoded data removed]",
      "text/plain": [
       "<Figure size 432x288 with 1 Axes>"
      ]
     },
     "metadata": {
      "needs_background": "light"
     },
     "output_type": "display_data"
    }
   ],
   "source": [
    "ratio1.plot(kind='bar')"
   ]
  },
  {
   "cell_type": "code",
   "execution_count": 35,
   "id": "953b0c3a",
   "metadata": {
    "execution": {
     "iopub.execute_input": "2022-01-09T15:08:54.929325Z",
     "iopub.status.busy": "2022-01-09T15:08:54.928504Z",
     "iopub.status.idle": "2022-01-09T15:08:54.968043Z",
     "shell.execute_reply": "2022-01-09T15:08:54.968609Z",
     "shell.execute_reply.started": "2022-01-09T15:07:38.531412Z"
    },
    "papermill": {
     "duration": 0.125812,
     "end_time": "2022-01-09T15:08:54.968780",
     "exception": false,
     "start_time": "2022-01-09T15:08:54.842968",
     "status": "completed"
    },
    "tags": []
   },
   "outputs": [
    {
     "data": {
      "text/html": [
       "<div>\n",
       "<style scoped>\n",
       "    .dataframe tbody tr th:only-of-type {\n",
       "        vertical-align: middle;\n",
       "    }\n",
       "\n",
       "    .dataframe tbody tr th {\n",
       "        vertical-align: top;\n",
       "    }\n",
       "\n",
       "    .dataframe thead th {\n",
       "        text-align: right;\n",
       "    }\n",
       "</style>\n",
       "<table border=\"1\" class=\"dataframe\">\n",
       "  <thead>\n",
       "    <tr style=\"text-align: right;\">\n",
       "      <th>Loan_Status</th>\n",
       "      <th>0</th>\n",
       "      <th>1</th>\n",
       "      <th>All</th>\n",
       "    </tr>\n",
       "    <tr>\n",
       "      <th>Dependents</th>\n",
       "      <th></th>\n",
       "      <th></th>\n",
       "      <th></th>\n",
       "    </tr>\n",
       "  </thead>\n",
       "  <tbody>\n",
       "    <tr>\n",
       "      <th>0</th>\n",
       "      <td>113</td>\n",
       "      <td>247</td>\n",
       "      <td>360</td>\n",
       "    </tr>\n",
       "    <tr>\n",
       "      <th>1</th>\n",
       "      <td>36</td>\n",
       "      <td>66</td>\n",
       "      <td>102</td>\n",
       "    </tr>\n",
       "    <tr>\n",
       "      <th>2</th>\n",
       "      <td>25</td>\n",
       "      <td>76</td>\n",
       "      <td>101</td>\n",
       "    </tr>\n",
       "    <tr>\n",
       "      <th>3+</th>\n",
       "      <td>18</td>\n",
       "      <td>33</td>\n",
       "      <td>51</td>\n",
       "    </tr>\n",
       "    <tr>\n",
       "      <th>All</th>\n",
       "      <td>192</td>\n",
       "      <td>422</td>\n",
       "      <td>614</td>\n",
       "    </tr>\n",
       "  </tbody>\n",
       "</table>\n",
       "</div>"
      ],
      "text/plain": [
       "Loan_Status    0    1  All\n",
       "Dependents                \n",
       "0            113  247  360\n",
       "1             36   66  102\n",
       "2             25   76  101\n",
       "3+            18   33   51\n",
       "All          192  422  614"
      ]
     },
     "execution_count": 35,
     "metadata": {},
     "output_type": "execute_result"
    }
   ],
   "source": [
    "pivot2 = pd.crosstab(df.Dependents,df.Loan_Status,margins=True)\n",
    "pivot2"
   ]
  },
  {
   "cell_type": "code",
   "execution_count": 36,
   "id": "c19a81a4",
   "metadata": {
    "execution": {
     "iopub.execute_input": "2022-01-09T15:08:55.140178Z",
     "iopub.status.busy": "2022-01-09T15:08:55.139289Z",
     "iopub.status.idle": "2022-01-09T15:08:55.147104Z",
     "shell.execute_reply": "2022-01-09T15:08:55.147623Z",
     "shell.execute_reply.started": "2022-01-09T15:07:38.576696Z"
    },
    "papermill": {
     "duration": 0.094563,
     "end_time": "2022-01-09T15:08:55.147820",
     "exception": false,
     "start_time": "2022-01-09T15:08:55.053257",
     "status": "completed"
    },
    "tags": []
   },
   "outputs": [
    {
     "data": {
      "text/plain": [
       "Dependents\n",
       "0      0.686111\n",
       "1      0.647059\n",
       "2      0.752475\n",
       "3+     0.647059\n",
       "All    0.687296\n",
       "dtype: float64"
      ]
     },
     "execution_count": 36,
     "metadata": {},
     "output_type": "execute_result"
    }
   ],
   "source": [
    "ratio2 = pivot2[1]/pivot2['All']\n",
    "ratio2"
   ]
  },
  {
   "cell_type": "code",
   "execution_count": 37,
   "id": "ec491f27",
   "metadata": {
    "execution": {
     "iopub.execute_input": "2022-01-09T15:08:55.321613Z",
     "iopub.status.busy": "2022-01-09T15:08:55.320966Z",
     "iopub.status.idle": "2022-01-09T15:08:55.519066Z",
     "shell.execute_reply": "2022-01-09T15:08:55.519648Z",
     "shell.execute_reply.started": "2022-01-09T15:07:38.588340Z"
    },
    "papermill": {
     "duration": 0.288901,
     "end_time": "2022-01-09T15:08:55.519866",
     "exception": false,
     "start_time": "2022-01-09T15:08:55.230965",
     "status": "completed"
    },
    "tags": []
   },
   "outputs": [
    {
     "data": {
      "text/plain": [
       "<AxesSubplot:xlabel='Dependents'>"
      ]
     },
     "execution_count": 37,
     "metadata": {},
     "output_type": "execute_result"
    },
    {
     "data": {
      "image/png": "[encoded data removed]",
      "text/plain": [
       "<Figure size 432x288 with 1 Axes>"
      ]
     },
     "metadata": {
      "needs_background": "light"
     },
     "output_type": "display_data"
    }
   ],
   "source": [
    "ratio2.plot(kind='bar')"
   ]
  },
  {
   "cell_type": "code",
   "execution_count": 38,
   "id": "00bad6cd",
   "metadata": {
    "execution": {
     "iopub.execute_input": "2022-01-09T15:08:55.696569Z",
     "iopub.status.busy": "2022-01-09T15:08:55.695871Z",
     "iopub.status.idle": "2022-01-09T15:08:55.730456Z",
     "shell.execute_reply": "2022-01-09T15:08:55.731086Z",
     "shell.execute_reply.started": "2022-01-09T15:07:38.759377Z"
    },
    "papermill": {
     "duration": 0.125568,
     "end_time": "2022-01-09T15:08:55.731268",
     "exception": false,
     "start_time": "2022-01-09T15:08:55.605700",
     "status": "completed"
    },
    "tags": []
   },
   "outputs": [
    {
     "data": {
      "text/html": [
       "<div>\n",
       "<style scoped>\n",
       "    .dataframe tbody tr th:only-of-type {\n",
       "        vertical-align: middle;\n",
       "    }\n",
       "\n",
       "    .dataframe tbody tr th {\n",
       "        vertical-align: top;\n",
       "    }\n",
       "\n",
       "    .dataframe thead th {\n",
       "        text-align: right;\n",
       "    }\n",
       "</style>\n",
       "<table border=\"1\" class=\"dataframe\">\n",
       "  <thead>\n",
       "    <tr style=\"text-align: right;\">\n",
       "      <th>Loan_Status</th>\n",
       "      <th>0</th>\n",
       "      <th>1</th>\n",
       "      <th>All</th>\n",
       "    </tr>\n",
       "    <tr>\n",
       "      <th>Education</th>\n",
       "      <th></th>\n",
       "      <th></th>\n",
       "      <th></th>\n",
       "    </tr>\n",
       "  </thead>\n",
       "  <tbody>\n",
       "    <tr>\n",
       "      <th>Graduate</th>\n",
       "      <td>140</td>\n",
       "      <td>340</td>\n",
       "      <td>480</td>\n",
       "    </tr>\n",
       "    <tr>\n",
       "      <th>Not Graduate</th>\n",
       "      <td>52</td>\n",
       "      <td>82</td>\n",
       "      <td>134</td>\n",
       "    </tr>\n",
       "    <tr>\n",
       "      <th>All</th>\n",
       "      <td>192</td>\n",
       "      <td>422</td>\n",
       "      <td>614</td>\n",
       "    </tr>\n",
       "  </tbody>\n",
       "</table>\n",
       "</div>"
      ],
      "text/plain": [
       "Loan_Status     0    1  All\n",
       "Education                  \n",
       "Graduate      140  340  480\n",
       "Not Graduate   52   82  134\n",
       "All           192  422  614"
      ]
     },
     "execution_count": 38,
     "metadata": {},
     "output_type": "execute_result"
    }
   ],
   "source": [
    "pivot3 = pd.crosstab(df.Education,df.Loan_Status,margins=True)\n",
    "pivot3"
   ]
  },
  {
   "cell_type": "code",
   "execution_count": 39,
   "id": "615089e4",
   "metadata": {
    "execution": {
     "iopub.execute_input": "2022-01-09T15:08:55.904066Z",
     "iopub.status.busy": "2022-01-09T15:08:55.903202Z",
     "iopub.status.idle": "2022-01-09T15:08:55.910273Z",
     "shell.execute_reply": "2022-01-09T15:08:55.910755Z",
     "shell.execute_reply.started": "2022-01-09T15:07:38.801929Z"
    },
    "papermill": {
     "duration": 0.094448,
     "end_time": "2022-01-09T15:08:55.910939",
     "exception": false,
     "start_time": "2022-01-09T15:08:55.816491",
     "status": "completed"
    },
    "tags": []
   },
   "outputs": [
    {
     "data": {
      "text/plain": [
       "Education\n",
       "Graduate        0.708333\n",
       "Not Graduate    0.611940\n",
       "All             0.687296\n",
       "dtype: float64"
      ]
     },
     "execution_count": 39,
     "metadata": {},
     "output_type": "execute_result"
    }
   ],
   "source": [
    "ratio3 = pivot3[1]/pivot3['All']\n",
    "ratio3"
   ]
  },
  {
   "cell_type": "code",
   "execution_count": 40,
   "id": "e2a2e557",
   "metadata": {
    "execution": {
     "iopub.execute_input": "2022-01-09T15:08:56.084628Z",
     "iopub.status.busy": "2022-01-09T15:08:56.083666Z",
     "iopub.status.idle": "2022-01-09T15:08:56.283664Z",
     "shell.execute_reply": "2022-01-09T15:08:56.283048Z",
     "shell.execute_reply.started": "2022-01-09T15:07:38.811403Z"
    },
    "papermill": {
     "duration": 0.287701,
     "end_time": "2022-01-09T15:08:56.283806",
     "exception": false,
     "start_time": "2022-01-09T15:08:55.996105",
     "status": "completed"
    },
    "tags": []
   },
   "outputs": [
    {
     "data": {
      "text/plain": [
       "<AxesSubplot:xlabel='Education'>"
      ]
     },
     "execution_count": 40,
     "metadata": {},
     "output_type": "execute_result"
    },
    {
     "data": {
      "image/png": "[encoded data removed]",
      "text/plain": [
       "<Figure size 432x288 with 1 Axes>"
      ]
     },
     "metadata": {
      "needs_background": "light"
     },
     "output_type": "display_data"
    }
   ],
   "source": [
    "ratio3.plot(kind='bar')"
   ]
  },
  {
   "cell_type": "code",
   "execution_count": 41,
   "id": "c207f8a0",
   "metadata": {
    "execution": {
     "iopub.execute_input": "2022-01-09T15:08:56.459489Z",
     "iopub.status.busy": "2022-01-09T15:08:56.458488Z",
     "iopub.status.idle": "2022-01-09T15:08:56.499580Z",
     "shell.execute_reply": "2022-01-09T15:08:56.499040Z",
     "shell.execute_reply.started": "2022-01-09T15:07:38.966252Z"
    },
    "papermill": {
     "duration": 0.130835,
     "end_time": "2022-01-09T15:08:56.499727",
     "exception": false,
     "start_time": "2022-01-09T15:08:56.368892",
     "status": "completed"
    },
    "tags": []
   },
   "outputs": [
    {
     "data": {
      "text/html": [
       "<div>\n",
       "<style scoped>\n",
       "    .dataframe tbody tr th:only-of-type {\n",
       "        vertical-align: middle;\n",
       "    }\n",
       "\n",
       "    .dataframe tbody tr th {\n",
       "        vertical-align: top;\n",
       "    }\n",
       "\n",
       "    .dataframe thead th {\n",
       "        text-align: right;\n",
       "    }\n",
       "</style>\n",
       "<table border=\"1\" class=\"dataframe\">\n",
       "  <thead>\n",
       "    <tr style=\"text-align: right;\">\n",
       "      <th>Loan_Status</th>\n",
       "      <th>0</th>\n",
       "      <th>1</th>\n",
       "      <th>All</th>\n",
       "    </tr>\n",
       "    <tr>\n",
       "      <th>Self_Employed</th>\n",
       "      <th></th>\n",
       "      <th></th>\n",
       "      <th></th>\n",
       "    </tr>\n",
       "  </thead>\n",
       "  <tbody>\n",
       "    <tr>\n",
       "      <th>No</th>\n",
       "      <td>166</td>\n",
       "      <td>366</td>\n",
       "      <td>532</td>\n",
       "    </tr>\n",
       "    <tr>\n",
       "      <th>Yes</th>\n",
       "      <td>26</td>\n",
       "      <td>56</td>\n",
       "      <td>82</td>\n",
       "    </tr>\n",
       "    <tr>\n",
       "      <th>All</th>\n",
       "      <td>192</td>\n",
       "      <td>422</td>\n",
       "      <td>614</td>\n",
       "    </tr>\n",
       "  </tbody>\n",
       "</table>\n",
       "</div>"
      ],
      "text/plain": [
       "Loan_Status      0    1  All\n",
       "Self_Employed               \n",
       "No             166  366  532\n",
       "Yes             26   56   82\n",
       "All            192  422  614"
      ]
     },
     "execution_count": 41,
     "metadata": {},
     "output_type": "execute_result"
    }
   ],
   "source": [
    "pivot4 = pd.crosstab(df.Self_Employed,df.Loan_Status,margins=True)\n",
    "pivot4\n"
   ]
  },
  {
   "cell_type": "code",
   "execution_count": 42,
   "id": "b4cdfbf9",
   "metadata": {
    "execution": {
     "iopub.execute_input": "2022-01-09T15:08:56.676959Z",
     "iopub.status.busy": "2022-01-09T15:08:56.676000Z",
     "iopub.status.idle": "2022-01-09T15:08:56.683196Z",
     "shell.execute_reply": "2022-01-09T15:08:56.683805Z",
     "shell.execute_reply.started": "2022-01-09T15:07:39.010771Z"
    },
    "papermill": {
     "duration": 0.096845,
     "end_time": "2022-01-09T15:08:56.683972",
     "exception": false,
     "start_time": "2022-01-09T15:08:56.587127",
     "status": "completed"
    },
    "tags": []
   },
   "outputs": [
    {
     "data": {
      "text/plain": [
       "Self_Employed\n",
       "No     0.687970\n",
       "Yes    0.682927\n",
       "All    0.687296\n",
       "dtype: float64"
      ]
     },
     "execution_count": 42,
     "metadata": {},
     "output_type": "execute_result"
    }
   ],
   "source": [
    "ratio4 = pivot4[1]/pivot4['All']\n",
    "ratio4"
   ]
  },
  {
   "cell_type": "code",
   "execution_count": 43,
   "id": "e1b60220",
   "metadata": {
    "execution": {
     "iopub.execute_input": "2022-01-09T15:08:56.859496Z",
     "iopub.status.busy": "2022-01-09T15:08:56.858415Z",
     "iopub.status.idle": "2022-01-09T15:08:57.006407Z",
     "shell.execute_reply": "2022-01-09T15:08:57.006967Z",
     "shell.execute_reply.started": "2022-01-09T15:07:39.027601Z"
    },
    "papermill": {
     "duration": 0.238117,
     "end_time": "2022-01-09T15:08:57.007138",
     "exception": false,
     "start_time": "2022-01-09T15:08:56.769021",
     "status": "completed"
    },
    "tags": []
   },
   "outputs": [
    {
     "data": {
      "text/plain": [
       "<AxesSubplot:xlabel='Self_Employed'>"
      ]
     },
     "execution_count": 43,
     "metadata": {},
     "output_type": "execute_result"
    },
    {
     "data": {
      "image/png": "[encoded data removed]",
      "text/plain": [
       "<Figure size 432x288 with 1 Axes>"
      ]
     },
     "metadata": {
      "needs_background": "light"
     },
     "output_type": "display_data"
    }
   ],
   "source": [
    "ratio4.plot(kind='bar')"
   ]
  },
  {
   "cell_type": "code",
   "execution_count": 44,
   "id": "32605fc5",
   "metadata": {
    "execution": {
     "iopub.execute_input": "2022-01-09T15:08:57.186272Z",
     "iopub.status.busy": "2022-01-09T15:08:57.185511Z",
     "iopub.status.idle": "2022-01-09T15:08:57.225101Z",
     "shell.execute_reply": "2022-01-09T15:08:57.225649Z",
     "shell.execute_reply.started": "2022-01-09T15:07:39.167725Z"
    },
    "papermill": {
     "duration": 0.13072,
     "end_time": "2022-01-09T15:08:57.225835",
     "exception": false,
     "start_time": "2022-01-09T15:08:57.095115",
     "status": "completed"
    },
    "tags": []
   },
   "outputs": [
    {
     "data": {
      "text/html": [
       "<div>\n",
       "<style scoped>\n",
       "    .dataframe tbody tr th:only-of-type {\n",
       "        vertical-align: middle;\n",
       "    }\n",
       "\n",
       "    .dataframe tbody tr th {\n",
       "        vertical-align: top;\n",
       "    }\n",
       "\n",
       "    .dataframe thead th {\n",
       "        text-align: right;\n",
       "    }\n",
       "</style>\n",
       "<table border=\"1\" class=\"dataframe\">\n",
       "  <thead>\n",
       "    <tr style=\"text-align: right;\">\n",
       "      <th>Loan_Status</th>\n",
       "      <th>0</th>\n",
       "      <th>1</th>\n",
       "      <th>All</th>\n",
       "    </tr>\n",
       "    <tr>\n",
       "      <th>Credit_History</th>\n",
       "      <th></th>\n",
       "      <th></th>\n",
       "      <th></th>\n",
       "    </tr>\n",
       "  </thead>\n",
       "  <tbody>\n",
       "    <tr>\n",
       "      <th>0.0</th>\n",
       "      <td>82</td>\n",
       "      <td>7</td>\n",
       "      <td>89</td>\n",
       "    </tr>\n",
       "    <tr>\n",
       "      <th>0.8421985815602837</th>\n",
       "      <td>13</td>\n",
       "      <td>37</td>\n",
       "      <td>50</td>\n",
       "    </tr>\n",
       "    <tr>\n",
       "      <th>1.0</th>\n",
       "      <td>97</td>\n",
       "      <td>378</td>\n",
       "      <td>475</td>\n",
       "    </tr>\n",
       "    <tr>\n",
       "      <th>All</th>\n",
       "      <td>192</td>\n",
       "      <td>422</td>\n",
       "      <td>614</td>\n",
       "    </tr>\n",
       "  </tbody>\n",
       "</table>\n",
       "</div>"
      ],
      "text/plain": [
       "Loan_Status           0    1  All\n",
       "Credit_History                   \n",
       "0.0                  82    7   89\n",
       "0.8421985815602837   13   37   50\n",
       "1.0                  97  378  475\n",
       "All                 192  422  614"
      ]
     },
     "execution_count": 44,
     "metadata": {},
     "output_type": "execute_result"
    }
   ],
   "source": [
    "pivot5= pd.crosstab(df.Credit_History,df.Loan_Status,margins=True)\n",
    "pivot5"
   ]
  },
  {
   "cell_type": "code",
   "execution_count": 45,
   "id": "e44aaa6b",
   "metadata": {
    "execution": {
     "iopub.execute_input": "2022-01-09T15:08:57.409283Z",
     "iopub.status.busy": "2022-01-09T15:08:57.408639Z",
     "iopub.status.idle": "2022-01-09T15:08:57.413808Z",
     "shell.execute_reply": "2022-01-09T15:08:57.414246Z",
     "shell.execute_reply.started": "2022-01-09T15:07:39.211601Z"
    },
    "papermill": {
     "duration": 0.10042,
     "end_time": "2022-01-09T15:08:57.414418",
     "exception": false,
     "start_time": "2022-01-09T15:08:57.313998",
     "status": "completed"
    },
    "tags": []
   },
   "outputs": [
    {
     "data": {
      "text/plain": [
       "Credit_History\n",
       "0.0                   0.078652\n",
       "0.8421985815602837    0.740000\n",
       "1.0                   0.795789\n",
       "All                   0.687296\n",
       "dtype: float64"
      ]
     },
     "execution_count": 45,
     "metadata": {},
     "output_type": "execute_result"
    }
   ],
   "source": [
    "ratio5= pivot5[1]/pivot5['All']\n",
    "ratio5"
   ]
  },
  {
   "cell_type": "code",
   "execution_count": 46,
   "id": "04f73cb6",
   "metadata": {
    "execution": {
     "iopub.execute_input": "2022-01-09T15:08:57.594544Z",
     "iopub.status.busy": "2022-01-09T15:08:57.593829Z",
     "iopub.status.idle": "2022-01-09T15:08:57.801650Z",
     "shell.execute_reply": "2022-01-09T15:08:57.802182Z",
     "shell.execute_reply.started": "2022-01-09T15:07:39.222348Z"
    },
    "papermill": {
     "duration": 0.299765,
     "end_time": "2022-01-09T15:08:57.802350",
     "exception": false,
     "start_time": "2022-01-09T15:08:57.502585",
     "status": "completed"
    },
    "tags": []
   },
   "outputs": [
    {
     "data": {
      "text/plain": [
       "<AxesSubplot:xlabel='Credit_History'>"
      ]
     },
     "execution_count": 46,
     "metadata": {},
     "output_type": "execute_result"
    },
    {
     "data": {
      "image/png": "[encoded data removed]",
      "text/plain": [
       "<Figure size 432x288 with 1 Axes>"
      ]
     },
     "metadata": {
      "needs_background": "light"
     },
     "output_type": "display_data"
    }
   ],
   "source": [
    "ratio5.plot(kind='bar')"
   ]
  },
  {
   "cell_type": "code",
   "execution_count": 47,
   "id": "12472760",
   "metadata": {
    "execution": {
     "iopub.execute_input": "2022-01-09T15:08:57.986756Z",
     "iopub.status.busy": "2022-01-09T15:08:57.986055Z",
     "iopub.status.idle": "2022-01-09T15:08:58.024131Z",
     "shell.execute_reply": "2022-01-09T15:08:58.024615Z",
     "shell.execute_reply.started": "2022-01-09T15:07:39.394625Z"
    },
    "papermill": {
     "duration": 0.131637,
     "end_time": "2022-01-09T15:08:58.024795",
     "exception": false,
     "start_time": "2022-01-09T15:08:57.893158",
     "status": "completed"
    },
    "tags": []
   },
   "outputs": [
    {
     "data": {
      "text/html": [
       "<div>\n",
       "<style scoped>\n",
       "    .dataframe tbody tr th:only-of-type {\n",
       "        vertical-align: middle;\n",
       "    }\n",
       "\n",
       "    .dataframe tbody tr th {\n",
       "        vertical-align: top;\n",
       "    }\n",
       "\n",
       "    .dataframe thead th {\n",
       "        text-align: right;\n",
       "    }\n",
       "</style>\n",
       "<table border=\"1\" class=\"dataframe\">\n",
       "  <thead>\n",
       "    <tr style=\"text-align: right;\">\n",
       "      <th>Loan_Status</th>\n",
       "      <th>0</th>\n",
       "      <th>1</th>\n",
       "      <th>All</th>\n",
       "    </tr>\n",
       "    <tr>\n",
       "      <th>Property_Area</th>\n",
       "      <th></th>\n",
       "      <th></th>\n",
       "      <th></th>\n",
       "    </tr>\n",
       "  </thead>\n",
       "  <tbody>\n",
       "    <tr>\n",
       "      <th>Rural</th>\n",
       "      <td>69</td>\n",
       "      <td>110</td>\n",
       "      <td>179</td>\n",
       "    </tr>\n",
       "    <tr>\n",
       "      <th>Semiurban</th>\n",
       "      <td>54</td>\n",
       "      <td>179</td>\n",
       "      <td>233</td>\n",
       "    </tr>\n",
       "    <tr>\n",
       "      <th>Urban</th>\n",
       "      <td>69</td>\n",
       "      <td>133</td>\n",
       "      <td>202</td>\n",
       "    </tr>\n",
       "    <tr>\n",
       "      <th>All</th>\n",
       "      <td>192</td>\n",
       "      <td>422</td>\n",
       "      <td>614</td>\n",
       "    </tr>\n",
       "  </tbody>\n",
       "</table>\n",
       "</div>"
      ],
      "text/plain": [
       "Loan_Status      0    1  All\n",
       "Property_Area               \n",
       "Rural           69  110  179\n",
       "Semiurban       54  179  233\n",
       "Urban           69  133  202\n",
       "All            192  422  614"
      ]
     },
     "execution_count": 47,
     "metadata": {},
     "output_type": "execute_result"
    }
   ],
   "source": [
    "pivot6= pd.crosstab(df.Property_Area,df.Loan_Status,margins=True)\n",
    "pivot6"
   ]
  },
  {
   "cell_type": "code",
   "execution_count": 48,
   "id": "e43d53dc",
   "metadata": {
    "execution": {
     "iopub.execute_input": "2022-01-09T15:08:58.211533Z",
     "iopub.status.busy": "2022-01-09T15:08:58.210717Z",
     "iopub.status.idle": "2022-01-09T15:08:58.214593Z",
     "shell.execute_reply": "2022-01-09T15:08:58.214088Z",
     "shell.execute_reply.started": "2022-01-09T15:07:39.439025Z"
    },
    "papermill": {
     "duration": 0.099642,
     "end_time": "2022-01-09T15:08:58.214733",
     "exception": false,
     "start_time": "2022-01-09T15:08:58.115091",
     "status": "completed"
    },
    "tags": []
   },
   "outputs": [
    {
     "data": {
      "text/plain": [
       "Property_Area\n",
       "Rural        0.614525\n",
       "Semiurban    0.768240\n",
       "Urban        0.658416\n",
       "All          0.687296\n",
       "dtype: float64"
      ]
     },
     "execution_count": 48,
     "metadata": {},
     "output_type": "execute_result"
    }
   ],
   "source": [
    "ratio6= pivot6[1]/pivot6['All']\n",
    "ratio6"
   ]
  },
  {
   "cell_type": "code",
   "execution_count": 49,
   "id": "664ba7a6",
   "metadata": {
    "execution": {
     "iopub.execute_input": "2022-01-09T15:08:58.399076Z",
     "iopub.status.busy": "2022-01-09T15:08:58.398331Z",
     "iopub.status.idle": "2022-01-09T15:08:58.604683Z",
     "shell.execute_reply": "2022-01-09T15:08:58.605235Z",
     "shell.execute_reply.started": "2022-01-09T15:07:39.449304Z"
    },
    "papermill": {
     "duration": 0.299026,
     "end_time": "2022-01-09T15:08:58.605458",
     "exception": false,
     "start_time": "2022-01-09T15:08:58.306432",
     "status": "completed"
    },
    "tags": []
   },
   "outputs": [
    {
     "data": {
      "text/plain": [
       "<AxesSubplot:xlabel='Property_Area'>"
      ]
     },
     "execution_count": 49,
     "metadata": {},
     "output_type": "execute_result"
    },
    {
     "data": {
      "image/png": "[encoded data removed]",
      "text/plain": [
       "<Figure size 432x288 with 1 Axes>"
      ]
     },
     "metadata": {
      "needs_background": "light"
     },
     "output_type": "display_data"
    }
   ],
   "source": [
    "ratio6.plot(kind='bar')"
   ]
  },
  {
   "cell_type": "markdown",
   "id": "fdeee5a9",
   "metadata": {
    "papermill": {
     "duration": 0.092881,
     "end_time": "2022-01-09T15:08:58.788782",
     "exception": false,
     "start_time": "2022-01-09T15:08:58.695901",
     "status": "completed"
    },
    "tags": []
   },
   "source": [
    "# **Label Encoding**"
   ]
  },
  {
   "cell_type": "code",
   "execution_count": 50,
   "id": "8823e4e9",
   "metadata": {
    "execution": {
     "iopub.execute_input": "2022-01-09T15:08:58.973221Z",
     "iopub.status.busy": "2022-01-09T15:08:58.972584Z",
     "iopub.status.idle": "2022-01-09T15:08:59.122178Z",
     "shell.execute_reply": "2022-01-09T15:08:59.122734Z",
     "shell.execute_reply.started": "2022-01-09T15:07:39.659629Z"
    },
    "papermill": {
     "duration": 0.243945,
     "end_time": "2022-01-09T15:08:59.122921",
     "exception": false,
     "start_time": "2022-01-09T15:08:58.878976",
     "status": "completed"
    },
    "tags": []
   },
   "outputs": [],
   "source": [
    "from sklearn.preprocessing import LabelEncoder\n",
    "df['Education']=LabelEncoder().fit_transform(df['Education'])\n",
    "df['Dependents']=LabelEncoder().fit_transform(df['Dependents'])\n",
    "df['Self_Employed']=LabelEncoder().fit_transform(df['Self_Employed'])\n",
    "df['Gender']=LabelEncoder().fit_transform(df['Gender'])\n",
    "df['Married']=LabelEncoder().fit_transform(df['Married'])\n",
    "df['Property_Area']=LabelEncoder().fit_transform(df['Property_Area'])"
   ]
  },
  {
   "cell_type": "markdown",
   "id": "813c967c",
   "metadata": {
    "papermill": {
     "duration": 0.090947,
     "end_time": "2022-01-09T15:08:59.307972",
     "exception": false,
     "start_time": "2022-01-09T15:08:59.217025",
     "status": "completed"
    },
    "tags": []
   },
   "source": [
    "# **Correlation Matrix**"
   ]
  },
  {
   "cell_type": "code",
   "execution_count": 51,
   "id": "bc4df240",
   "metadata": {
    "execution": {
     "iopub.execute_input": "2022-01-09T15:08:59.498040Z",
     "iopub.status.busy": "2022-01-09T15:08:59.497316Z",
     "iopub.status.idle": "2022-01-09T15:09:00.494869Z",
     "shell.execute_reply": "2022-01-09T15:09:00.495412Z",
     "shell.execute_reply.started": "2022-01-09T15:07:39.706540Z"
    },
    "papermill": {
     "duration": 1.094394,
     "end_time": "2022-01-09T15:09:00.495680",
     "exception": false,
     "start_time": "2022-01-09T15:08:59.401286",
     "status": "completed"
    },
    "tags": []
   },
   "outputs": [
    {
     "data": {
      "image/png": "[encoded data removed]",
      "text/plain": [
       "<Figure size 1440x864 with 2 Axes>"
      ]
     },
     "metadata": {
      "needs_background": "light"
     },
     "output_type": "display_data"
    }
   ],
   "source": [
    "cor=df.corr()\n",
    "plt.figure(figsize=(20,12))\n",
    "sns.heatmap(cor,annot=True,cmap='coolwarm')\n",
    "plt.show()"
   ]
  },
  {
   "cell_type": "markdown",
   "id": "a28d92ae",
   "metadata": {
    "papermill": {
     "duration": 0.093407,
     "end_time": "2022-01-09T15:09:00.684254",
     "exception": false,
     "start_time": "2022-01-09T15:09:00.590847",
     "status": "completed"
    },
    "tags": []
   },
   "source": [
    "# **Train the Model**"
   ]
  },
  {
   "cell_type": "code",
   "execution_count": 52,
   "id": "bb019d39",
   "metadata": {
    "execution": {
     "iopub.execute_input": "2022-01-09T15:09:00.879266Z",
     "iopub.status.busy": "2022-01-09T15:09:00.878513Z",
     "iopub.status.idle": "2022-01-09T15:09:01.030079Z",
     "shell.execute_reply": "2022-01-09T15:09:01.029170Z",
     "shell.execute_reply.started": "2022-01-09T15:07:40.664079Z"
    },
    "papermill": {
     "duration": 0.252202,
     "end_time": "2022-01-09T15:09:01.030237",
     "exception": false,
     "start_time": "2022-01-09T15:09:00.778035",
     "status": "completed"
    },
    "tags": []
   },
   "outputs": [],
   "source": [
    "from sklearn import linear_model\n",
    "from sklearn.model_selection import train_test_split\n",
    "from sklearn.metrics import mean_absolute_error as mae,median_absolute_error as mee,classification_report as cr,accuracy_score as ac"
   ]
  },
  {
   "cell_type": "code",
   "execution_count": 53,
   "id": "c328aceb",
   "metadata": {
    "execution": {
     "iopub.execute_input": "2022-01-09T15:09:01.227343Z",
     "iopub.status.busy": "2022-01-09T15:09:01.226281Z",
     "iopub.status.idle": "2022-01-09T15:09:01.243868Z",
     "shell.execute_reply": "2022-01-09T15:09:01.244597Z",
     "shell.execute_reply.started": "2022-01-09T15:07:40.710925Z"
    },
    "papermill": {
     "duration": 0.118901,
     "end_time": "2022-01-09T15:09:01.244792",
     "exception": false,
     "start_time": "2022-01-09T15:09:01.125891",
     "status": "completed"
    },
    "tags": []
   },
   "outputs": [
    {
     "data": {
      "text/html": [
       "<div>\n",
       "<style scoped>\n",
       "    .dataframe tbody tr th:only-of-type {\n",
       "        vertical-align: middle;\n",
       "    }\n",
       "\n",
       "    .dataframe tbody tr th {\n",
       "        vertical-align: top;\n",
       "    }\n",
       "\n",
       "    .dataframe thead th {\n",
       "        text-align: right;\n",
       "    }\n",
       "</style>\n",
       "<table border=\"1\" class=\"dataframe\">\n",
       "  <thead>\n",
       "    <tr style=\"text-align: right;\">\n",
       "      <th></th>\n",
       "      <th>Loan_ID</th>\n",
       "      <th>Gender</th>\n",
       "      <th>Married</th>\n",
       "      <th>Dependents</th>\n",
       "      <th>Education</th>\n",
       "      <th>Self_Employed</th>\n",
       "      <th>ApplicantIncome</th>\n",
       "      <th>CoapplicantIncome</th>\n",
       "      <th>LoanAmount</th>\n",
       "      <th>Loan_Amount_Term</th>\n",
       "      <th>Credit_History</th>\n",
       "      <th>Property_Area</th>\n",
       "      <th>Loan_Status</th>\n",
       "    </tr>\n",
       "  </thead>\n",
       "  <tbody>\n",
       "    <tr>\n",
       "      <th>0</th>\n",
       "      <td>LP001002</td>\n",
       "      <td>1</td>\n",
       "      <td>0</td>\n",
       "      <td>0</td>\n",
       "      <td>0</td>\n",
       "      <td>0</td>\n",
       "      <td>5849.0</td>\n",
       "      <td>0.0</td>\n",
       "      <td>146.412162</td>\n",
       "      <td>360.0</td>\n",
       "      <td>1.0</td>\n",
       "      <td>2</td>\n",
       "      <td>1</td>\n",
       "    </tr>\n",
       "    <tr>\n",
       "      <th>1</th>\n",
       "      <td>LP001003</td>\n",
       "      <td>1</td>\n",
       "      <td>1</td>\n",
       "      <td>1</td>\n",
       "      <td>0</td>\n",
       "      <td>0</td>\n",
       "      <td>4583.0</td>\n",
       "      <td>1508.0</td>\n",
       "      <td>128.000000</td>\n",
       "      <td>360.0</td>\n",
       "      <td>1.0</td>\n",
       "      <td>0</td>\n",
       "      <td>0</td>\n",
       "    </tr>\n",
       "    <tr>\n",
       "      <th>2</th>\n",
       "      <td>LP001005</td>\n",
       "      <td>1</td>\n",
       "      <td>1</td>\n",
       "      <td>0</td>\n",
       "      <td>0</td>\n",
       "      <td>1</td>\n",
       "      <td>3000.0</td>\n",
       "      <td>0.0</td>\n",
       "      <td>66.000000</td>\n",
       "      <td>360.0</td>\n",
       "      <td>1.0</td>\n",
       "      <td>2</td>\n",
       "      <td>1</td>\n",
       "    </tr>\n",
       "    <tr>\n",
       "      <th>3</th>\n",
       "      <td>LP001006</td>\n",
       "      <td>1</td>\n",
       "      <td>1</td>\n",
       "      <td>0</td>\n",
       "      <td>1</td>\n",
       "      <td>0</td>\n",
       "      <td>2583.0</td>\n",
       "      <td>2358.0</td>\n",
       "      <td>120.000000</td>\n",
       "      <td>360.0</td>\n",
       "      <td>1.0</td>\n",
       "      <td>2</td>\n",
       "      <td>1</td>\n",
       "    </tr>\n",
       "    <tr>\n",
       "      <th>4</th>\n",
       "      <td>LP001008</td>\n",
       "      <td>1</td>\n",
       "      <td>0</td>\n",
       "      <td>0</td>\n",
       "      <td>0</td>\n",
       "      <td>0</td>\n",
       "      <td>6000.0</td>\n",
       "      <td>0.0</td>\n",
       "      <td>141.000000</td>\n",
       "      <td>360.0</td>\n",
       "      <td>1.0</td>\n",
       "      <td>2</td>\n",
       "      <td>1</td>\n",
       "    </tr>\n",
       "  </tbody>\n",
       "</table>\n",
       "</div>"
      ],
      "text/plain": [
       "    Loan_ID  Gender  Married  Dependents  Education  Self_Employed  \\\n",
       "0  LP001002       1        0           0          0              0   \n",
       "1  LP001003       1        1           1          0              0   \n",
       "2  LP001005       1        1           0          0              1   \n",
       "3  LP001006       1        1           0          1              0   \n",
       "4  LP001008       1        0           0          0              0   \n",
       "\n",
       "   ApplicantIncome  CoapplicantIncome  LoanAmount  Loan_Amount_Term  \\\n",
       "0           5849.0                0.0  146.412162             360.0   \n",
       "1           4583.0             1508.0  128.000000             360.0   \n",
       "2           3000.0                0.0   66.000000             360.0   \n",
       "3           2583.0             2358.0  120.000000             360.0   \n",
       "4           6000.0                0.0  141.000000             360.0   \n",
       "\n",
       "   Credit_History  Property_Area  Loan_Status  \n",
       "0             1.0              2            1  \n",
       "1             1.0              0            0  \n",
       "2             1.0              2            1  \n",
       "3             1.0              2            1  \n",
       "4             1.0              2            1  "
      ]
     },
     "execution_count": 53,
     "metadata": {},
     "output_type": "execute_result"
    }
   ],
   "source": [
    "df2=df\n",
    "df2.head()"
   ]
  },
  {
   "cell_type": "code",
   "execution_count": 54,
   "id": "7a54cf75",
   "metadata": {
    "execution": {
     "iopub.execute_input": "2022-01-09T15:09:01.450603Z",
     "iopub.status.busy": "2022-01-09T15:09:01.449456Z",
     "iopub.status.idle": "2022-01-09T15:09:01.470106Z",
     "shell.execute_reply": "2022-01-09T15:09:01.470610Z",
     "shell.execute_reply.started": "2022-01-09T15:07:40.730349Z"
    },
    "papermill": {
     "duration": 0.120937,
     "end_time": "2022-01-09T15:09:01.470793",
     "exception": false,
     "start_time": "2022-01-09T15:09:01.349856",
     "status": "completed"
    },
    "tags": []
   },
   "outputs": [
    {
     "data": {
      "text/html": [
       "<div>\n",
       "<style scoped>\n",
       "    .dataframe tbody tr th:only-of-type {\n",
       "        vertical-align: middle;\n",
       "    }\n",
       "\n",
       "    .dataframe tbody tr th {\n",
       "        vertical-align: top;\n",
       "    }\n",
       "\n",
       "    .dataframe thead th {\n",
       "        text-align: right;\n",
       "    }\n",
       "</style>\n",
       "<table border=\"1\" class=\"dataframe\">\n",
       "  <thead>\n",
       "    <tr style=\"text-align: right;\">\n",
       "      <th></th>\n",
       "      <th>Dependents</th>\n",
       "      <th>Education</th>\n",
       "      <th>Self_Employed</th>\n",
       "      <th>ApplicantIncome</th>\n",
       "      <th>LoanAmount</th>\n",
       "      <th>Credit_History</th>\n",
       "      <th>Loan_Status</th>\n",
       "    </tr>\n",
       "  </thead>\n",
       "  <tbody>\n",
       "    <tr>\n",
       "      <th>0</th>\n",
       "      <td>0</td>\n",
       "      <td>0</td>\n",
       "      <td>0</td>\n",
       "      <td>5849.0</td>\n",
       "      <td>146.412162</td>\n",
       "      <td>1.0</td>\n",
       "      <td>1</td>\n",
       "    </tr>\n",
       "    <tr>\n",
       "      <th>1</th>\n",
       "      <td>1</td>\n",
       "      <td>0</td>\n",
       "      <td>0</td>\n",
       "      <td>4583.0</td>\n",
       "      <td>128.000000</td>\n",
       "      <td>1.0</td>\n",
       "      <td>0</td>\n",
       "    </tr>\n",
       "    <tr>\n",
       "      <th>2</th>\n",
       "      <td>0</td>\n",
       "      <td>0</td>\n",
       "      <td>1</td>\n",
       "      <td>3000.0</td>\n",
       "      <td>66.000000</td>\n",
       "      <td>1.0</td>\n",
       "      <td>1</td>\n",
       "    </tr>\n",
       "    <tr>\n",
       "      <th>3</th>\n",
       "      <td>0</td>\n",
       "      <td>1</td>\n",
       "      <td>0</td>\n",
       "      <td>2583.0</td>\n",
       "      <td>120.000000</td>\n",
       "      <td>1.0</td>\n",
       "      <td>1</td>\n",
       "    </tr>\n",
       "    <tr>\n",
       "      <th>4</th>\n",
       "      <td>0</td>\n",
       "      <td>0</td>\n",
       "      <td>0</td>\n",
       "      <td>6000.0</td>\n",
       "      <td>141.000000</td>\n",
       "      <td>1.0</td>\n",
       "      <td>1</td>\n",
       "    </tr>\n",
       "    <tr>\n",
       "      <th>...</th>\n",
       "      <td>...</td>\n",
       "      <td>...</td>\n",
       "      <td>...</td>\n",
       "      <td>...</td>\n",
       "      <td>...</td>\n",
       "      <td>...</td>\n",
       "      <td>...</td>\n",
       "    </tr>\n",
       "    <tr>\n",
       "      <th>609</th>\n",
       "      <td>0</td>\n",
       "      <td>0</td>\n",
       "      <td>0</td>\n",
       "      <td>2900.0</td>\n",
       "      <td>71.000000</td>\n",
       "      <td>1.0</td>\n",
       "      <td>1</td>\n",
       "    </tr>\n",
       "    <tr>\n",
       "      <th>610</th>\n",
       "      <td>3</td>\n",
       "      <td>0</td>\n",
       "      <td>0</td>\n",
       "      <td>4106.0</td>\n",
       "      <td>57.300000</td>\n",
       "      <td>1.0</td>\n",
       "      <td>1</td>\n",
       "    </tr>\n",
       "    <tr>\n",
       "      <th>611</th>\n",
       "      <td>1</td>\n",
       "      <td>0</td>\n",
       "      <td>0</td>\n",
       "      <td>8072.0</td>\n",
       "      <td>253.000000</td>\n",
       "      <td>1.0</td>\n",
       "      <td>1</td>\n",
       "    </tr>\n",
       "    <tr>\n",
       "      <th>612</th>\n",
       "      <td>2</td>\n",
       "      <td>0</td>\n",
       "      <td>0</td>\n",
       "      <td>7583.0</td>\n",
       "      <td>187.000000</td>\n",
       "      <td>1.0</td>\n",
       "      <td>1</td>\n",
       "    </tr>\n",
       "    <tr>\n",
       "      <th>613</th>\n",
       "      <td>0</td>\n",
       "      <td>0</td>\n",
       "      <td>1</td>\n",
       "      <td>4583.0</td>\n",
       "      <td>133.000000</td>\n",
       "      <td>0.0</td>\n",
       "      <td>0</td>\n",
       "    </tr>\n",
       "  </tbody>\n",
       "</table>\n",
       "<p>614 rows × 7 columns</p>\n",
       "</div>"
      ],
      "text/plain": [
       "     Dependents  Education  Self_Employed  ApplicantIncome  LoanAmount  \\\n",
       "0             0          0              0           5849.0  146.412162   \n",
       "1             1          0              0           4583.0  128.000000   \n",
       "2             0          0              1           3000.0   66.000000   \n",
       "3             0          1              0           2583.0  120.000000   \n",
       "4             0          0              0           6000.0  141.000000   \n",
       "..          ...        ...            ...              ...         ...   \n",
       "609           0          0              0           2900.0   71.000000   \n",
       "610           3          0              0           4106.0   57.300000   \n",
       "611           1          0              0           8072.0  253.000000   \n",
       "612           2          0              0           7583.0  187.000000   \n",
       "613           0          0              1           4583.0  133.000000   \n",
       "\n",
       "     Credit_History  Loan_Status  \n",
       "0               1.0            1  \n",
       "1               1.0            0  \n",
       "2               1.0            1  \n",
       "3               1.0            1  \n",
       "4               1.0            1  \n",
       "..              ...          ...  \n",
       "609             1.0            1  \n",
       "610             1.0            1  \n",
       "611             1.0            1  \n",
       "612             1.0            1  \n",
       "613             0.0            0  \n",
       "\n",
       "[614 rows x 7 columns]"
      ]
     },
     "execution_count": 54,
     "metadata": {},
     "output_type": "execute_result"
    }
   ],
   "source": [
    "col=['Loan_ID','Gender','Married','CoapplicantIncome','Loan_Amount_Term','Property_Area']\n",
    "df2=df2.drop(columns=col,axis=1)\n",
    "df2"
   ]
  },
  {
   "cell_type": "code",
   "execution_count": 55,
   "id": "ffe895ae",
   "metadata": {
    "execution": {
     "iopub.execute_input": "2022-01-09T15:09:01.668434Z",
     "iopub.status.busy": "2022-01-09T15:09:01.667413Z",
     "iopub.status.idle": "2022-01-09T15:09:01.674816Z",
     "shell.execute_reply": "2022-01-09T15:09:01.674254Z",
     "shell.execute_reply.started": "2022-01-09T15:07:40.758083Z"
    },
    "papermill": {
     "duration": 0.106798,
     "end_time": "2022-01-09T15:09:01.674962",
     "exception": false,
     "start_time": "2022-01-09T15:09:01.568164",
     "status": "completed"
    },
    "tags": []
   },
   "outputs": [],
   "source": [
    "x=df2[['Dependents','Education','Self_Employed','ApplicantIncome','LoanAmount','Credit_History']]\n",
    "y=df2[['Loan_Status']]"
   ]
  },
  {
   "cell_type": "code",
   "execution_count": 56,
   "id": "a1ffc15d",
   "metadata": {
    "execution": {
     "iopub.execute_input": "2022-01-09T15:09:01.870189Z",
     "iopub.status.busy": "2022-01-09T15:09:01.869288Z",
     "iopub.status.idle": "2022-01-09T15:09:01.876824Z",
     "shell.execute_reply": "2022-01-09T15:09:01.877447Z",
     "shell.execute_reply.started": "2022-01-09T15:07:40.766805Z"
    },
    "papermill": {
     "duration": 0.106769,
     "end_time": "2022-01-09T15:09:01.877658",
     "exception": false,
     "start_time": "2022-01-09T15:09:01.770889",
     "status": "completed"
    },
    "tags": []
   },
   "outputs": [],
   "source": [
    "x_train,x_test,y_train,y_test=train_test_split(x,y,test_size=0.25,random_state=40)"
   ]
  },
  {
   "cell_type": "markdown",
   "id": "ccf1107a",
   "metadata": {
    "papermill": {
     "duration": 0.097151,
     "end_time": "2022-01-09T15:09:02.072025",
     "exception": false,
     "start_time": "2022-01-09T15:09:01.974874",
     "status": "completed"
    },
    "tags": []
   },
   "source": [
    "# **DecisionTree**"
   ]
  },
  {
   "cell_type": "code",
   "execution_count": 57,
   "id": "225b6123",
   "metadata": {
    "execution": {
     "iopub.execute_input": "2022-01-09T15:09:02.272777Z",
     "iopub.status.busy": "2022-01-09T15:09:02.272025Z",
     "iopub.status.idle": "2022-01-09T15:09:02.378100Z",
     "shell.execute_reply": "2022-01-09T15:09:02.377408Z",
     "shell.execute_reply.started": "2022-01-09T15:07:40.782525Z"
    },
    "papermill": {
     "duration": 0.206879,
     "end_time": "2022-01-09T15:09:02.378241",
     "exception": false,
     "start_time": "2022-01-09T15:09:02.171362",
     "status": "completed"
    },
    "tags": []
   },
   "outputs": [],
   "source": [
    "from sklearn.tree import DecisionTreeClassifier \n",
    "model=DecisionTreeClassifier()"
   ]
  },
  {
   "cell_type": "code",
   "execution_count": 58,
   "id": "5923b597",
   "metadata": {
    "execution": {
     "iopub.execute_input": "2022-01-09T15:09:02.582371Z",
     "iopub.status.busy": "2022-01-09T15:09:02.581376Z",
     "iopub.status.idle": "2022-01-09T15:09:02.590395Z",
     "shell.execute_reply": "2022-01-09T15:09:02.589697Z",
     "shell.execute_reply.started": "2022-01-09T15:07:40.820565Z"
    },
    "papermill": {
     "duration": 0.114925,
     "end_time": "2022-01-09T15:09:02.590543",
     "exception": false,
     "start_time": "2022-01-09T15:09:02.475618",
     "status": "completed"
    },
    "tags": []
   },
   "outputs": [
    {
     "data": {
      "text/plain": [
       "DecisionTreeClassifier()"
      ]
     },
     "execution_count": 58,
     "metadata": {},
     "output_type": "execute_result"
    }
   ],
   "source": [
    "model.fit(x_train,y_train)"
   ]
  },
  {
   "cell_type": "code",
   "execution_count": 59,
   "id": "38da3d93",
   "metadata": {
    "execution": {
     "iopub.execute_input": "2022-01-09T15:09:02.793172Z",
     "iopub.status.busy": "2022-01-09T15:09:02.792270Z",
     "iopub.status.idle": "2022-01-09T15:09:02.796121Z",
     "shell.execute_reply": "2022-01-09T15:09:02.795507Z",
     "shell.execute_reply.started": "2022-01-09T15:07:40.836802Z"
    },
    "papermill": {
     "duration": 0.107853,
     "end_time": "2022-01-09T15:09:02.796259",
     "exception": false,
     "start_time": "2022-01-09T15:09:02.688406",
     "status": "completed"
    },
    "tags": []
   },
   "outputs": [
    {
     "data": {
      "text/plain": [
       "array([1, 1, 1, 1, 1, 1, 0, 1, 1, 0, 1, 1, 1, 1, 1, 0, 1, 1, 1, 0, 0, 1,\n",
       "       1, 1, 1, 1, 1, 0, 1, 1, 0, 1, 1, 1, 1, 1, 1, 1, 1, 1, 0, 1, 1, 1,\n",
       "       1, 1, 1, 0, 0, 1, 1, 1, 1, 0, 0, 1, 1, 0, 1, 1, 0, 0, 1, 1, 1, 1,\n",
       "       1, 1, 0, 1, 0, 1, 1, 1, 1, 1, 1, 1, 1, 1, 1, 1, 1, 1, 0, 1, 1, 1,\n",
       "       1, 1, 0, 1, 1, 1, 0, 1, 1, 1, 1, 1, 0, 1, 1, 0, 0, 1, 0, 0, 1, 1,\n",
       "       0, 0, 1, 1, 0, 1, 0, 1, 1, 1, 0, 1, 1, 0, 1, 1, 1, 1, 1, 1, 0, 1,\n",
       "       1, 1, 1, 1, 1, 1, 1, 0, 1, 0, 1, 1, 0, 1, 0, 1, 1, 0, 0, 0, 1, 1])"
      ]
     },
     "execution_count": 59,
     "metadata": {},
     "output_type": "execute_result"
    }
   ],
   "source": [
    "y_pre1 = model.predict(x_test)\n",
    "y_pre1"
   ]
  },
  {
   "cell_type": "code",
   "execution_count": 60,
   "id": "7f85fe56",
   "metadata": {
    "execution": {
     "iopub.execute_input": "2022-01-09T15:09:02.997214Z",
     "iopub.status.busy": "2022-01-09T15:09:02.996407Z",
     "iopub.status.idle": "2022-01-09T15:09:03.039195Z",
     "shell.execute_reply": "2022-01-09T15:09:03.039988Z",
     "shell.execute_reply.started": "2022-01-09T15:07:40.848839Z"
    },
    "papermill": {
     "duration": 0.145219,
     "end_time": "2022-01-09T15:09:03.040171",
     "exception": false,
     "start_time": "2022-01-09T15:09:02.894952",
     "status": "completed"
    },
    "tags": []
   },
   "outputs": [
    {
     "name": "stdout",
     "output_type": "stream",
     "text": [
      "71.42857142857143\n",
      "70.19325603092096\n"
     ]
    }
   ],
   "source": [
    "from sklearn.model_selection import cross_val_score\n",
    "print(ac(y_test,y_pre1)*100)\n",
    "sco1=(cross_val_score(model,x,y,cv=5))\n",
    "print(np.mean(sco1)*100)"
   ]
  },
  {
   "cell_type": "markdown",
   "id": "2e17b69a",
   "metadata": {
    "papermill": {
     "duration": 0.120607,
     "end_time": "2022-01-09T15:09:03.261176",
     "exception": false,
     "start_time": "2022-01-09T15:09:03.140569",
     "status": "completed"
    },
    "tags": []
   },
   "source": [
    "# **Implementing Confusion Matrix**"
   ]
  },
  {
   "cell_type": "code",
   "execution_count": 61,
   "id": "f7041f05",
   "metadata": {
    "execution": {
     "iopub.execute_input": "2022-01-09T15:09:03.476375Z",
     "iopub.status.busy": "2022-01-09T15:09:03.475648Z",
     "iopub.status.idle": "2022-01-09T15:09:03.772826Z",
     "shell.execute_reply": "2022-01-09T15:09:03.773346Z",
     "shell.execute_reply.started": "2022-01-09T15:07:40.902198Z"
    },
    "papermill": {
     "duration": 0.413842,
     "end_time": "2022-01-09T15:09:03.773566",
     "exception": false,
     "start_time": "2022-01-09T15:09:03.359724",
     "status": "completed"
    },
    "tags": []
   },
   "outputs": [
    {
     "data": {
      "text/plain": [
       "Text(0.5, 1.0, 'Output Confusion Matrix')"
      ]
     },
     "execution_count": 61,
     "metadata": {},
     "output_type": "execute_result"
    },
    {
     "data": {
      "image/png": "[encoded data removed]",
      "text/plain": [
       "<Figure size 576x432 with 2 Axes>"
      ]
     },
     "metadata": {
      "needs_background": "light"
     },
     "output_type": "display_data"
    }
   ],
   "source": [
    "from sklearn.metrics import confusion_matrix\n",
    "cm=confusion_matrix(y_test,y_pre1)\n",
    "plt.figure(figsize=(8,6))\n",
    "fg=sns.heatmap(cm,annot=True,cmap=\"Reds\")\n",
    "figure=fg.get_figure()\n",
    "plt.xlabel('Predicted')\n",
    "plt.ylabel('Actual')\n",
    "plt.title(\"Output Confusion Matrix\")"
   ]
  },
  {
   "cell_type": "markdown",
   "id": "b552e546",
   "metadata": {
    "papermill": {
     "duration": 0.105849,
     "end_time": "2022-01-09T15:09:04.000347",
     "exception": false,
     "start_time": "2022-01-09T15:09:03.894498",
     "status": "completed"
    },
    "tags": []
   },
   "source": [
    "# **DecisionTree Prediction With New Input**"
   ]
  },
  {
   "cell_type": "code",
   "execution_count": 62,
   "id": "c353ad1d",
   "metadata": {
    "execution": {
     "iopub.execute_input": "2022-01-09T15:09:04.219352Z",
     "iopub.status.busy": "2022-01-09T15:09:04.217811Z",
     "iopub.status.idle": "2022-01-09T15:09:04.223798Z",
     "shell.execute_reply": "2022-01-09T15:09:04.223059Z",
     "shell.execute_reply.started": "2022-01-09T15:07:41.180375Z"
    },
    "papermill": {
     "duration": 0.119508,
     "end_time": "2022-01-09T15:09:04.223952",
     "exception": false,
     "start_time": "2022-01-09T15:09:04.104444",
     "status": "completed"
    },
    "tags": []
   },
   "outputs": [
    {
     "data": {
      "text/plain": [
       "array([1])"
      ]
     },
     "execution_count": 62,
     "metadata": {},
     "output_type": "execute_result"
    }
   ],
   "source": [
    "newinput=[[0,0,0,5849.0,146.412162,1.0]]\n",
    "output1=model.predict(newinput)\n",
    "output1"
   ]
  },
  {
   "cell_type": "markdown",
   "id": "b859741c",
   "metadata": {
    "papermill": {
     "duration": 0.107936,
     "end_time": "2022-01-09T15:09:04.440817",
     "exception": false,
     "start_time": "2022-01-09T15:09:04.332881",
     "status": "completed"
    },
    "tags": []
   },
   "source": [
    "# **Naive Bayes**"
   ]
  },
  {
   "cell_type": "code",
   "execution_count": 63,
   "id": "258c984a",
   "metadata": {
    "execution": {
     "iopub.execute_input": "2022-01-09T15:09:04.654139Z",
     "iopub.status.busy": "2022-01-09T15:09:04.652777Z",
     "iopub.status.idle": "2022-01-09T15:09:04.664353Z",
     "shell.execute_reply": "2022-01-09T15:09:04.663786Z",
     "shell.execute_reply.started": "2022-01-09T15:07:41.189789Z"
    },
    "papermill": {
     "duration": 0.118376,
     "end_time": "2022-01-09T15:09:04.664493",
     "exception": false,
     "start_time": "2022-01-09T15:09:04.546117",
     "status": "completed"
    },
    "tags": []
   },
   "outputs": [
    {
     "data": {
      "text/plain": [
       "GaussianNB()"
      ]
     },
     "execution_count": 63,
     "metadata": {},
     "output_type": "execute_result"
    }
   ],
   "source": [
    "from sklearn.naive_bayes import GaussianNB  \n",
    "classifier1 = GaussianNB()  \n",
    "classifier1.fit(x_train, y_train)  "
   ]
  },
  {
   "cell_type": "code",
   "execution_count": 64,
   "id": "4a1c212f",
   "metadata": {
    "execution": {
     "iopub.execute_input": "2022-01-09T15:09:04.865314Z",
     "iopub.status.busy": "2022-01-09T15:09:04.864267Z",
     "iopub.status.idle": "2022-01-09T15:09:04.869988Z",
     "shell.execute_reply": "2022-01-09T15:09:04.870529Z",
     "shell.execute_reply.started": "2022-01-09T15:07:41.210306Z"
    },
    "papermill": {
     "duration": 0.107178,
     "end_time": "2022-01-09T15:09:04.870722",
     "exception": false,
     "start_time": "2022-01-09T15:09:04.763544",
     "status": "completed"
    },
    "tags": []
   },
   "outputs": [],
   "source": [
    "y_pred3= classifier1.predict(x_test)  "
   ]
  },
  {
   "cell_type": "code",
   "execution_count": 65,
   "id": "c120f3a9",
   "metadata": {
    "execution": {
     "iopub.execute_input": "2022-01-09T15:09:05.073380Z",
     "iopub.status.busy": "2022-01-09T15:09:05.072712Z",
     "iopub.status.idle": "2022-01-09T15:09:05.109205Z",
     "shell.execute_reply": "2022-01-09T15:09:05.108511Z",
     "shell.execute_reply.started": "2022-01-09T15:07:41.220728Z"
    },
    "papermill": {
     "duration": 0.139083,
     "end_time": "2022-01-09T15:09:05.109356",
     "exception": false,
     "start_time": "2022-01-09T15:09:04.970273",
     "status": "completed"
    },
    "tags": []
   },
   "outputs": [
    {
     "name": "stdout",
     "output_type": "stream",
     "text": [
      "81.16883116883116\n",
      "80.9462881514061\n"
     ]
    }
   ],
   "source": [
    "print(ac(y_test,y_pred3)*100)\n",
    "sco3=(cross_val_score(classifier1,x,y,cv=5))\n",
    "print(np.mean(sco3)*100)"
   ]
  },
  {
   "cell_type": "markdown",
   "id": "4483427d",
   "metadata": {
    "papermill": {
     "duration": 0.1005,
     "end_time": "2022-01-09T15:09:05.309369",
     "exception": false,
     "start_time": "2022-01-09T15:09:05.208869",
     "status": "completed"
    },
    "tags": []
   },
   "source": [
    "# **Prediction**"
   ]
  },
  {
   "cell_type": "code",
   "execution_count": 66,
   "id": "6f998337",
   "metadata": {
    "execution": {
     "iopub.execute_input": "2022-01-09T15:09:05.521666Z",
     "iopub.status.busy": "2022-01-09T15:09:05.520907Z",
     "iopub.status.idle": "2022-01-09T15:09:05.528926Z",
     "shell.execute_reply": "2022-01-09T15:09:05.529654Z",
     "shell.execute_reply.started": "2022-01-09T15:07:41.423181Z"
    },
    "papermill": {
     "duration": 0.116674,
     "end_time": "2022-01-09T15:09:05.529886",
     "exception": false,
     "start_time": "2022-01-09T15:09:05.413212",
     "status": "completed"
    },
    "tags": []
   },
   "outputs": [
    {
     "data": {
      "text/plain": [
       "array([1])"
      ]
     },
     "execution_count": 66,
     "metadata": {},
     "output_type": "execute_result"
    }
   ],
   "source": [
    "newinput1=[[0,0,0,5849.0,146.412162,1.0]]\n",
    "output11=classifier1.predict(newinput1)\n",
    "output11"
   ]
  },
  {
   "cell_type": "code",
   "execution_count": null,
   "id": "36a772a7",
   "metadata": {
    "papermill": {
     "duration": 0.099613,
     "end_time": "2022-01-09T15:09:05.728621",
     "exception": false,
     "start_time": "2022-01-09T15:09:05.629008",
     "status": "completed"
    },
    "tags": []
   },
   "outputs": [],
   "source": []
  }
 ],
 "metadata": {
  "kernelspec": {
   "display_name": "Python 3",
   "language": "python",
   "name": "python3"
  },
  "language_info": {
   "codemirror_mode": {
    "name": "ipython",
    "version": 3
   },
   "file_extension": ".py",
   "mimetype": "text/x-python",
   "name": "python",
   "nbconvert_exporter": "python",
   "pygments_lexer": "ipython3",
   "version": "3.7.12"
  },
  "papermill": {
   "default_parameters": {},
   "duration": 34.184584,
   "end_time": "2022-01-09T15:09:06.639382",
   "environment_variables": {},
   "exception": null,
   "input_path": "__notebook__.ipynb",
   "output_path": "__notebook__.ipynb",
   "parameters": {},
   "start_time": "2022-01-09T15:08:32.454798",
   "version": "2.3.3"
  }
 },
 "nbformat": 4,
 "nbformat_minor": 5
}
